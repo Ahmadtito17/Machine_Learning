{
  "nbformat": 4,
  "nbformat_minor": 0,
  "metadata": {
    "colab": {
      "provenance": [],
      "gpuType": "T4",
      "include_colab_link": true
    },
    "kernelspec": {
      "name": "python3",
      "display_name": "Python 3"
    },
    "language_info": {
      "name": "python"
    },
    "accelerator": "GPU"
  },
  "cells": [
    {
      "cell_type": "markdown",
      "metadata": {
        "id": "view-in-github",
        "colab_type": "text"
      },
      "source": [
        "<a href=\"https://colab.research.google.com/github/Ahmadtito17/Machine_Learning/blob/main/Jobsheet10.ipynb\" target=\"_parent\"><img src=\"https://colab.research.google.com/assets/colab-badge.svg\" alt=\"Open In Colab\"/></a>"
      ]
    },
    {
      "cell_type": "markdown",
      "source": [
        "Nama   : Ahmad Tito N.H\n",
        "\n",
        "NIM    : 2141720265\n",
        "\n",
        "Kelas  : TI-3G"
      ],
      "metadata": {
        "id": "FcikQGqJHMPl"
      }
    },
    {
      "cell_type": "markdown",
      "source": [
        "___________________________________________________________________________\n",
        "\n",
        "**Jobsheet 10 - Recurrent Neural Network (RNN)**\n",
        "\n",
        "___________________________________________________________________________"
      ],
      "metadata": {
        "id": "r5AulI3E4zPZ"
      }
    },
    {
      "cell_type": "markdown",
      "source": [
        "**Praktikum 1<br>**\n",
        "RNN untuk Analisis Sentimen"
      ],
      "metadata": {
        "id": "sWAWnjJYFp-U"
      }
    },
    {
      "cell_type": "code",
      "execution_count": 1,
      "metadata": {
        "id": "bsfQFVaVFW3M"
      },
      "outputs": [],
      "source": [
        "import numpy as np\n",
        "import tensorflow_datasets as tfds\n",
        "import tensorflow as tf\n",
        "\n",
        "tfds.disable_progress_bar()"
      ]
    },
    {
      "cell_type": "code",
      "source": [
        "import matplotlib.pyplot as plt\n",
        "\n",
        "def plot_graphs(history, metric):\n",
        "  plt.plot(history.history[metric])\n",
        "  plt.plot(history.history['val_'+metric], '')\n",
        "  plt.xlabel(\"Epochs\")\n",
        "  plt.ylabel(metric)\n",
        "  plt.legend([metric, 'val_'+metric])"
      ],
      "metadata": {
        "id": "q06l5ctkF-h4"
      },
      "execution_count": 2,
      "outputs": []
    },
    {
      "cell_type": "markdown",
      "source": [
        "Setup Input Pipelin"
      ],
      "metadata": {
        "id": "jFbxit2dHOcc"
      }
    },
    {
      "cell_type": "code",
      "source": [
        "dataset, info = tfds.load('imdb_reviews', with_info=True,\n",
        "                          as_supervised=True)\n",
        "train_dataset, test_dataset = dataset['train'], dataset['test']\n",
        "\n",
        "train_dataset.element_spec"
      ],
      "metadata": {
        "colab": {
          "base_uri": "https://localhost:8080/"
        },
        "id": "yl1lcmsGHeZ7",
        "outputId": "88798a63-b2ff-4a15-991e-91f200aad569"
      },
      "execution_count": 3,
      "outputs": [
        {
          "output_type": "stream",
          "name": "stdout",
          "text": [
            "Downloading and preparing dataset 80.23 MiB (download: 80.23 MiB, generated: Unknown size, total: 80.23 MiB) to /root/tensorflow_datasets/imdb_reviews/plain_text/1.0.0...\n",
            "Dataset imdb_reviews downloaded and prepared to /root/tensorflow_datasets/imdb_reviews/plain_text/1.0.0. Subsequent calls will reuse this data.\n"
          ]
        },
        {
          "output_type": "execute_result",
          "data": {
            "text/plain": [
              "(TensorSpec(shape=(), dtype=tf.string, name=None),\n",
              " TensorSpec(shape=(), dtype=tf.int64, name=None))"
            ]
          },
          "metadata": {},
          "execution_count": 3
        }
      ]
    },
    {
      "cell_type": "code",
      "source": [
        "for example, label in train_dataset.take(1):\n",
        "  print('text: ', example.numpy())\n",
        "  print('label: ', label.numpy())"
      ],
      "metadata": {
        "colab": {
          "base_uri": "https://localhost:8080/"
        },
        "id": "ZkDtxQWdJXwX",
        "outputId": "707fc754-7813-4b58-9d1d-6d4cc042b7ca"
      },
      "execution_count": 4,
      "outputs": [
        {
          "output_type": "stream",
          "name": "stdout",
          "text": [
            "text:  b\"This was an absolutely terrible movie. Don't be lured in by Christopher Walken or Michael Ironside. Both are great actors, but this must simply be their worst role in history. Even their great acting could not redeem this movie's ridiculous storyline. This movie is an early nineties US propaganda piece. The most pathetic scenes were those when the Columbian rebels were making their cases for revolutions. Maria Conchita Alonso appeared phony, and her pseudo-love affair with Walken was nothing but a pathetic emotional plug in a movie that was devoid of any real meaning. I am disappointed that there are movies like this, ruining actor's like Christopher Walken's good name. I could barely sit through it.\"\n",
            "label:  0\n"
          ]
        }
      ]
    },
    {
      "cell_type": "code",
      "source": [
        "BUFFER_SIZE = 10000\n",
        "BATCH_SIZE = 64\n",
        "\n",
        "train_dataset = train_dataset.shuffle(BUFFER_SIZE).batch(BATCH_SIZE).prefetch(tf.data.AUTOTUNE)\n",
        "test_dataset = test_dataset.batch(BATCH_SIZE).prefetch(tf.data.AUTOTUNE)\n",
        "\n",
        "for example, label in train_dataset.take(1):\n",
        "  print('texts: ', example.numpy()[:3])\n",
        "  print()\n",
        "  print('labels: ', label.numpy()[:3])"
      ],
      "metadata": {
        "colab": {
          "base_uri": "https://localhost:8080/"
        },
        "id": "pSByN1lsJbbE",
        "outputId": "b021fbcb-79b7-48f8-a3eb-ebae296fea33"
      },
      "execution_count": 5,
      "outputs": [
        {
          "output_type": "stream",
          "name": "stdout",
          "text": [
            "texts:  [b'In what must be one of the most blood-freezing movies ever, a transvestite is murdering people in New York, and the answer to everything may not be what people suspect. One can see how Brian DePalma takes some influence from Hitchcock with camera angles and stuff. Michael Caine plays a most thought-provoking character, while Angie Dickinson is basically a bored rich woman with a bad hairdo. Keith Gordon (who later starred in \"Christine\") is probably the most interesting character in the movie. But you can\\'t really understand this movie without seeing it. And after seeing it, you may never know just whom you can trust. Also starring Nancy Allen and Dennis Franz.'\n",
            " b\"One of Disney's best films that I can enjoy watching often. you may easily guess the outcome, but who cares? its just plain fun escape for 1 hour forty-two minutes. and after all wasn't movies meant to get away from reality for just a short time anyway? The cast sparkles with delight. -magictrain\"\n",
            " b\"I got to see an early preview of this movie and I hope they have time to edit it in what ever way they can to improve on it before it comes out Aug 3rd. It stars Andy Samberg from Saturday Night Live as 'Hot' Rod Kimble. He's plays a teenager in a small town who wants to be a stunt man like his late father. When we meet him, he's jumping a mail truck on his mo-ped, yes, a mo-ped, and almost makes it. This would be worthy of a 'Jackass' movie if he wasn't honestly trying to do this. Isla Fisher plays the slightly older and much more mature girl-next-door, Denise. She seems to like Rod enough to join his 'crew'. Jorma Taccone (also SNL) plays his half brother, Kevin, who documents the stunts with a camcorder. Sissy Spacek plays Rod's mom, Marie. She remarried Frank Powell, played by Ian McShane. Frank's a real tough guy who enjoys beating Rod in some real drag out brawls. It's clear that Rod's not going to earn Frank's respect till he can beat him. We find out Frank needs a $50,000. heart transplant and Rod is determined to raise the money just so he 'can beat his ass' once he's healed, and prove himself a man. A long fall down a mountain side convinces Rod to 'go big' on one stunt. Rod sets out to get seed money by charging for doing stunts that would make you cringe if you saw them in real life. Like the human torch- at a children's birthday party. There were those at the showing who managed to laugh at most of the stunts. Just when all hope and money is lost, along comes a sponsor who saves the day by getting the 15 school buses Rod wants to jump. He gets exclusive broadcast rights and sets up phone lines to get donations. Rod gets a new outfit and a real motorcycle. The whole town turns out and the world tunes in. Does he make the jump? Does he get the girl? Do they raise the $50k? Does Frank get his ass beat by Rod? Wait till this 90 minute movie comes out on video to find out.\"]\n",
            "\n",
            "labels:  [1 1 0]\n"
          ]
        }
      ]
    },
    {
      "cell_type": "markdown",
      "source": [
        "Buat Teks Encoder"
      ],
      "metadata": {
        "id": "sFdSeJ9MJlEc"
      }
    },
    {
      "cell_type": "code",
      "source": [
        "VOCAB_SIZE = 1000\n",
        "encoder = tf.keras.layers.TextVectorization(\n",
        "    max_tokens=VOCAB_SIZE)\n",
        "encoder.adapt(train_dataset.map(lambda text, label: text))"
      ],
      "metadata": {
        "id": "CqQKS63IJ4M9"
      },
      "execution_count": 6,
      "outputs": []
    },
    {
      "cell_type": "code",
      "source": [
        "vocab = np.array(encoder.get_vocabulary())\n",
        "vocab[:20]"
      ],
      "metadata": {
        "colab": {
          "base_uri": "https://localhost:8080/"
        },
        "id": "-5UY_v7pJ9GP",
        "outputId": "1063b6b9-7b08-48e3-9497-174f93339a32"
      },
      "execution_count": 7,
      "outputs": [
        {
          "output_type": "execute_result",
          "data": {
            "text/plain": [
              "array(['', '[UNK]', 'the', 'and', 'a', 'of', 'to', 'is', 'in', 'it', 'i',\n",
              "       'this', 'that', 'br', 'was', 'as', 'for', 'with', 'movie', 'but'],\n",
              "      dtype='<U14')"
            ]
          },
          "metadata": {},
          "execution_count": 7
        }
      ]
    },
    {
      "cell_type": "code",
      "source": [
        "encoded_example = encoder(example)[:3].numpy()\n",
        "encoded_example"
      ],
      "metadata": {
        "colab": {
          "base_uri": "https://localhost:8080/"
        },
        "id": "f-bk6koeKMjv",
        "outputId": "4605813d-5d06-4f83-ed82-0c933a85e183"
      },
      "execution_count": 8,
      "outputs": [
        {
          "output_type": "execute_result",
          "data": {
            "text/plain": [
              "array([[  8,  49, 217, ...,   0,   0,   0],\n",
              "       [ 29,   5,   1, ...,   0,   0,   0],\n",
              "       [ 10, 183,   6, ...,   0,   0,   0]])"
            ]
          },
          "metadata": {},
          "execution_count": 8
        }
      ]
    },
    {
      "cell_type": "code",
      "source": [
        "for n in range(3):\n",
        "  print(\"Original: \", example[n].numpy())\n",
        "  print(\"Round-trip: \", \" \".join(vocab[encoded_example[n]]))\n",
        "  print()"
      ],
      "metadata": {
        "colab": {
          "base_uri": "https://localhost:8080/"
        },
        "id": "faTrcitHKUtu",
        "outputId": "55d8eed2-362a-41f7-c114-6d9a0ecdb640"
      },
      "execution_count": 9,
      "outputs": [
        {
          "output_type": "stream",
          "name": "stdout",
          "text": [
            "Original:  b'In what must be one of the most blood-freezing movies ever, a transvestite is murdering people in New York, and the answer to everything may not be what people suspect. One can see how Brian DePalma takes some influence from Hitchcock with camera angles and stuff. Michael Caine plays a most thought-provoking character, while Angie Dickinson is basically a bored rich woman with a bad hairdo. Keith Gordon (who later starred in \"Christine\") is probably the most interesting character in the movie. But you can\\'t really understand this movie without seeing it. And after seeing it, you may never know just whom you can trust. Also starring Nancy Allen and Dennis Franz.'\n",
            "Round-trip:  in what must be one of the most [UNK] movies ever a [UNK] is [UNK] people in new york and the [UNK] to everything may not be what people [UNK] one can see how [UNK] [UNK] takes some [UNK] from [UNK] with camera [UNK] and stuff michael [UNK] plays a most [UNK] character while [UNK] [UNK] is basically a [UNK] [UNK] woman with a bad [UNK] [UNK] [UNK] who later [UNK] in [UNK] is probably the most interesting character in the movie but you cant really understand this movie without seeing it and after seeing it you may never know just whom you can [UNK] also [UNK] [UNK] [UNK] and [UNK] [UNK]                                                                                                                                                                                                                                                                                                                                                                                                                                                                                                                                                                                                                                                                                                                                                                                                                                               \n",
            "\n",
            "Original:  b\"One of Disney's best films that I can enjoy watching often. you may easily guess the outcome, but who cares? its just plain fun escape for 1 hour forty-two minutes. and after all wasn't movies meant to get away from reality for just a short time anyway? The cast sparkles with delight. -magictrain\"\n",
            "Round-trip:  one of [UNK] best films that i can enjoy watching often you may easily guess the [UNK] but who [UNK] its just [UNK] fun [UNK] for 1 hour [UNK] minutes and after all wasnt movies meant to get away from reality for just a short time anyway the cast [UNK] with [UNK] [UNK]                                                                                                                                                                                                                                                                                                                                                                                                                                                                                                                                                                                                                                                                                                                                                                                                                                                                                                          \n",
            "\n",
            "Original:  b\"I got to see an early preview of this movie and I hope they have time to edit it in what ever way they can to improve on it before it comes out Aug 3rd. It stars Andy Samberg from Saturday Night Live as 'Hot' Rod Kimble. He's plays a teenager in a small town who wants to be a stunt man like his late father. When we meet him, he's jumping a mail truck on his mo-ped, yes, a mo-ped, and almost makes it. This would be worthy of a 'Jackass' movie if he wasn't honestly trying to do this. Isla Fisher plays the slightly older and much more mature girl-next-door, Denise. She seems to like Rod enough to join his 'crew'. Jorma Taccone (also SNL) plays his half brother, Kevin, who documents the stunts with a camcorder. Sissy Spacek plays Rod's mom, Marie. She remarried Frank Powell, played by Ian McShane. Frank's a real tough guy who enjoys beating Rod in some real drag out brawls. It's clear that Rod's not going to earn Frank's respect till he can beat him. We find out Frank needs a $50,000. heart transplant and Rod is determined to raise the money just so he 'can beat his ass' once he's healed, and prove himself a man. A long fall down a mountain side convinces Rod to 'go big' on one stunt. Rod sets out to get seed money by charging for doing stunts that would make you cringe if you saw them in real life. Like the human torch- at a children's birthday party. There were those at the showing who managed to laugh at most of the stunts. Just when all hope and money is lost, along comes a sponsor who saves the day by getting the 15 school buses Rod wants to jump. He gets exclusive broadcast rights and sets up phone lines to get donations. Rod gets a new outfit and a real motorcycle. The whole town turns out and the world tunes in. Does he make the jump? Does he get the girl? Do they raise the $50k? Does Frank get his ass beat by Rod? Wait till this 90 minute movie comes out on video to find out.\"\n",
            "Round-trip:  i got to see an early [UNK] of this movie and i hope they have time to [UNK] it in what ever way they can to [UNK] on it before it comes out [UNK] [UNK] it stars [UNK] [UNK] from [UNK] night live as hot [UNK] [UNK] hes plays a [UNK] in a small town who wants to be a [UNK] man like his late father when we meet him hes [UNK] a [UNK] [UNK] on his [UNK] yes a [UNK] and almost makes it this would be [UNK] of a [UNK] movie if he wasnt [UNK] trying to do this [UNK] [UNK] plays the [UNK] older and much more [UNK] [UNK] [UNK] she seems to like [UNK] enough to [UNK] his [UNK] [UNK] [UNK] also [UNK] plays his half brother [UNK] who [UNK] the [UNK] with a [UNK] [UNK] [UNK] plays [UNK] [UNK] [UNK] she [UNK] [UNK] [UNK] played by [UNK] [UNK] [UNK] a real [UNK] guy who [UNK] [UNK] [UNK] in some real [UNK] out [UNK] its clear that [UNK] not going to [UNK] [UNK] [UNK] [UNK] he can [UNK] him we find out [UNK] needs a [UNK] heart [UNK] and [UNK] is [UNK] to [UNK] the money just so he can [UNK] his [UNK] once hes [UNK] and [UNK] himself a man a long fall down a [UNK] side [UNK] [UNK] to go big on one [UNK] [UNK] sets out to get [UNK] money by [UNK] for doing [UNK] that would make you [UNK] if you saw them in real life like the human [UNK] at a [UNK] [UNK] [UNK] there were those at the showing who [UNK] to laugh at most of the [UNK] just when all hope and money is lost along comes a [UNK] who [UNK] the day by getting the [UNK] school [UNK] [UNK] wants to [UNK] he gets [UNK] [UNK] [UNK] and sets up [UNK] lines to get [UNK] [UNK] gets a new [UNK] and a real [UNK] the whole town turns out and the world [UNK] in does he make the [UNK] does he get the girl do they [UNK] the [UNK] does [UNK] get his [UNK] [UNK] by [UNK] wait [UNK] this [UNK] minute movie comes out on video to find out                                                                                                                                                                                                                                                                                                                                                                                                                                                                                                                                                                           \n",
            "\n"
          ]
        }
      ]
    },
    {
      "cell_type": "markdown",
      "source": [
        "Buat Model"
      ],
      "metadata": {
        "id": "TRInfehtKbSV"
      }
    },
    {
      "cell_type": "code",
      "source": [
        "model = tf.keras.Sequential([\n",
        "    encoder,\n",
        "    tf.keras.layers.Embedding(\n",
        "        input_dim=len(encoder.get_vocabulary()),\n",
        "        output_dim=64,\n",
        "        # Use masking to handle the variable sequence lengths\n",
        "        mask_zero=True),\n",
        "    tf.keras.layers.Bidirectional(tf.keras.layers.LSTM(64)),\n",
        "    tf.keras.layers.Dense(64, activation='relu'),\n",
        "    tf.keras.layers.Dense(1)\n",
        "])"
      ],
      "metadata": {
        "id": "Jt8VhRc1KeGy"
      },
      "execution_count": 10,
      "outputs": []
    },
    {
      "cell_type": "code",
      "source": [
        "print([layer.supports_masking for layer in model.layers])"
      ],
      "metadata": {
        "colab": {
          "base_uri": "https://localhost:8080/"
        },
        "id": "bIebie1RKmBu",
        "outputId": "e70dd9da-228b-4d64-c472-7e79bb0b4406"
      },
      "execution_count": 11,
      "outputs": [
        {
          "output_type": "stream",
          "name": "stdout",
          "text": [
            "[False, True, True, True, True]\n"
          ]
        }
      ]
    },
    {
      "cell_type": "code",
      "source": [
        "# predict on a sample text without padding.\n",
        "\n",
        "sample_text = ('The movie was cool. The animation and the graphics '\n",
        "               'were out of this world. I would recommend this movie.')\n",
        "predictions = model.predict(np.array([sample_text]))\n",
        "print(predictions[0])"
      ],
      "metadata": {
        "colab": {
          "base_uri": "https://localhost:8080/"
        },
        "id": "1lqAFG5eKvnw",
        "outputId": "feecd934-5f6f-4645-b77a-50ea41c67e56"
      },
      "execution_count": 12,
      "outputs": [
        {
          "output_type": "stream",
          "name": "stdout",
          "text": [
            "1/1 [==============================] - 10s 10s/step\n",
            "[0.00122371]\n"
          ]
        }
      ]
    },
    {
      "cell_type": "code",
      "source": [
        "# predict on a sample text with padding\n",
        "\n",
        "padding = \"the \" * 2000\n",
        "predictions = model.predict(np.array([sample_text, padding]))\n",
        "print(predictions[0])"
      ],
      "metadata": {
        "colab": {
          "base_uri": "https://localhost:8080/"
        },
        "id": "xSAC0-MzK0h7",
        "outputId": "5a138055-e8e3-43e4-e3c0-cf458182bb1c"
      },
      "execution_count": 13,
      "outputs": [
        {
          "output_type": "stream",
          "name": "stdout",
          "text": [
            "1/1 [==============================] - 0s 64ms/step\n",
            "[0.00122372]\n"
          ]
        }
      ]
    },
    {
      "cell_type": "code",
      "source": [
        "model.compile(loss=tf.keras.losses.BinaryCrossentropy(from_logits=True),\n",
        "              optimizer=tf.keras.optimizers.Adam(1e-4),\n",
        "              metrics=['accuracy'])"
      ],
      "metadata": {
        "id": "WFK14BSNK2-1"
      },
      "execution_count": 14,
      "outputs": []
    },
    {
      "cell_type": "markdown",
      "source": [
        "Train Model"
      ],
      "metadata": {
        "id": "WC334n7pK7NK"
      }
    },
    {
      "cell_type": "code",
      "source": [
        "history = model.fit(train_dataset, epochs=10, validation_data=test_dataset, validation_steps=30)"
      ],
      "metadata": {
        "colab": {
          "base_uri": "https://localhost:8080/"
        },
        "id": "RXerg5zgK8lu",
        "outputId": "1965cba6-7d16-4e7e-a763-ccd84608b7d6"
      },
      "execution_count": 15,
      "outputs": [
        {
          "output_type": "stream",
          "name": "stdout",
          "text": [
            "Epoch 1/10\n",
            "391/391 [==============================] - 51s 105ms/step - loss: 0.6473 - accuracy: 0.5618 - val_loss: 0.4882 - val_accuracy: 0.7641\n",
            "Epoch 2/10\n",
            "391/391 [==============================] - 27s 68ms/step - loss: 0.4020 - accuracy: 0.8143 - val_loss: 0.3739 - val_accuracy: 0.8458\n",
            "Epoch 3/10\n",
            "391/391 [==============================] - 27s 69ms/step - loss: 0.3363 - accuracy: 0.8522 - val_loss: 0.3339 - val_accuracy: 0.8589\n",
            "Epoch 4/10\n",
            "391/391 [==============================] - 26s 67ms/step - loss: 0.3190 - accuracy: 0.8622 - val_loss: 0.3306 - val_accuracy: 0.8422\n",
            "Epoch 5/10\n",
            "391/391 [==============================] - 27s 67ms/step - loss: 0.3151 - accuracy: 0.8650 - val_loss: 0.3242 - val_accuracy: 0.8594\n",
            "Epoch 6/10\n",
            "391/391 [==============================] - 26s 67ms/step - loss: 0.3081 - accuracy: 0.8676 - val_loss: 0.3220 - val_accuracy: 0.8526\n",
            "Epoch 7/10\n",
            "391/391 [==============================] - 25s 64ms/step - loss: 0.3052 - accuracy: 0.8692 - val_loss: 0.3285 - val_accuracy: 0.8573\n",
            "Epoch 8/10\n",
            "391/391 [==============================] - 25s 64ms/step - loss: 0.3024 - accuracy: 0.8697 - val_loss: 0.3188 - val_accuracy: 0.8573\n",
            "Epoch 9/10\n",
            "391/391 [==============================] - 26s 66ms/step - loss: 0.2981 - accuracy: 0.8722 - val_loss: 0.3233 - val_accuracy: 0.8547\n",
            "Epoch 10/10\n",
            "391/391 [==============================] - 26s 66ms/step - loss: 0.2970 - accuracy: 0.8730 - val_loss: 0.3237 - val_accuracy: 0.8547\n"
          ]
        }
      ]
    },
    {
      "cell_type": "code",
      "source": [
        "test_loss, test_acc = model.evaluate(test_dataset)\n",
        "\n",
        "print('Test Loss:', test_loss)\n",
        "print('Test Accuracy:', test_acc)"
      ],
      "metadata": {
        "colab": {
          "base_uri": "https://localhost:8080/"
        },
        "id": "Lw_13Jn4LDO4",
        "outputId": "b8e25ae0-e2d3-4ac1-88c2-d38d45d80f71"
      },
      "execution_count": 16,
      "outputs": [
        {
          "output_type": "stream",
          "name": "stdout",
          "text": [
            "391/391 [==============================] - 12s 31ms/step - loss: 0.3165 - accuracy: 0.8553\n",
            "Test Loss: 0.31646281480789185\n",
            "Test Accuracy: 0.8552799820899963\n"
          ]
        }
      ]
    },
    {
      "cell_type": "code",
      "source": [
        "plt.figure(figsize=(16, 8))\n",
        "plt.subplot(1, 2, 1)\n",
        "plot_graphs(history, 'accuracy')\n",
        "plt.ylim(None, 1)\n",
        "plt.subplot(1, 2, 2)\n",
        "plot_graphs(history, 'loss')\n",
        "plt.ylim(0, None)"
      ],
      "metadata": {
        "colab": {
          "base_uri": "https://localhost:8080/",
          "height": 639
        },
        "id": "elZVD-r2nTBy",
        "outputId": "07466f38-f611-4571-e858-6fbdbc27ff69"
      },
      "execution_count": 17,
      "outputs": [
        {
          "output_type": "execute_result",
          "data": {
            "text/plain": [
              "(0.0, 0.6648297011852264)"
            ]
          },
          "metadata": {},
          "execution_count": 17
        },
        {
          "output_type": "display_data",
          "data": {
            "text/plain": [
              "<Figure size 1600x800 with 2 Axes>"
            ],
            "image/png": "[encoded data removed]"
          },
          "metadata": {}
        }
      ]
    },
    {
      "cell_type": "code",
      "source": [
        "sample_text = ('The movie was cool. The animation and the graphics ''were out of this world. I would recommend this movie.')\n",
        "predictions = model.predict(np.array([sample_text]))"
      ],
      "metadata": {
        "colab": {
          "base_uri": "https://localhost:8080/"
        },
        "id": "pqV6S-zRnXAB",
        "outputId": "d792a19e-cfdf-4733-fe84-d9bdd29d92ce"
      },
      "execution_count": 18,
      "outputs": [
        {
          "output_type": "stream",
          "name": "stdout",
          "text": [
            "1/1 [==============================] - 3s 3s/step\n"
          ]
        }
      ]
    },
    {
      "cell_type": "markdown",
      "source": [
        "Stack Two or More LSTM Layers"
      ],
      "metadata": {
        "id": "_yxUKqQznfgH"
      }
    },
    {
      "cell_type": "code",
      "source": [
        "model = tf.keras.Sequential([encoder,\n",
        "  tf.keras.layers.Embedding(len(encoder.get_vocabulary()), 64, mask_zero=True),\n",
        "  tf.keras.layers.Bidirectional(tf.keras.layers.LSTM(64, return_sequences=True)),\n",
        "  tf.keras.layers.Bidirectional(tf.keras.layers.LSTM(32)),\n",
        "  tf.keras.layers.Dense(64, activation='relu'),\n",
        "  tf.keras.layers.Dropout(0.5),\n",
        "  tf.keras.layers.Dense(1)\n",
        "])"
      ],
      "metadata": {
        "id": "fK55s7pzndGl",
        "colab": {
          "base_uri": "https://localhost:8080/"
        },
        "outputId": "d1497d37-5944-4c60-fed9-d472019c27c5"
      },
      "execution_count": 19,
      "outputs": [
        {
          "output_type": "stream",
          "name": "stderr",
          "text": [
            "Exception ignored in: <function WeakKeyDictionary.__init__.<locals>.remove at 0x7aafb96f3010>\n",
            "Traceback (most recent call last):\n",
            "  File \"/usr/lib/python3.10/weakref.py\", line 370, in remove\n",
            "    def remove(k, selfref=ref(self)):\n",
            "KeyboardInterrupt: \n"
          ]
        }
      ]
    },
    {
      "cell_type": "code",
      "source": [
        "model.compile(loss=tf.keras.losses.BinaryCrossentropy(from_logits=True),\n",
        "optimizer=tf.keras.optimizers.Adam(1e-4),\n",
        "metrics=['accuracy'])"
      ],
      "metadata": {
        "id": "gDgEbc45n4ET"
      },
      "execution_count": 20,
      "outputs": []
    },
    {
      "cell_type": "code",
      "source": [
        "history = model.fit(train_dataset, epochs=10,\n",
        " validation_data=test_dataset,\n",
        " validation_steps=30)"
      ],
      "metadata": {
        "colab": {
          "base_uri": "https://localhost:8080/"
        },
        "id": "CZmWSIJEoLp_",
        "outputId": "1f24fd3e-6bdb-4d15-9209-7c480e7f31e7"
      },
      "execution_count": 21,
      "outputs": [
        {
          "output_type": "stream",
          "name": "stdout",
          "text": [
            "Epoch 1/10\n",
            "391/391 [==============================] - 79s 157ms/step - loss: 0.6259 - accuracy: 0.5962 - val_loss: 0.4579 - val_accuracy: 0.7844\n",
            "Epoch 2/10\n",
            "391/391 [==============================] - 47s 121ms/step - loss: 0.4088 - accuracy: 0.8194 - val_loss: 0.3655 - val_accuracy: 0.8453\n",
            "Epoch 3/10\n",
            "391/391 [==============================] - 47s 119ms/step - loss: 0.3558 - accuracy: 0.8466 - val_loss: 0.3523 - val_accuracy: 0.8328\n",
            "Epoch 4/10\n",
            "391/391 [==============================] - 47s 120ms/step - loss: 0.3376 - accuracy: 0.8547 - val_loss: 0.3537 - val_accuracy: 0.8370\n",
            "Epoch 5/10\n",
            "391/391 [==============================] - 49s 124ms/step - loss: 0.3290 - accuracy: 0.8612 - val_loss: 0.3380 - val_accuracy: 0.8453\n",
            "Epoch 6/10\n",
            "391/391 [==============================] - 47s 119ms/step - loss: 0.3197 - accuracy: 0.8649 - val_loss: 0.3335 - val_accuracy: 0.8500\n",
            "Epoch 7/10\n",
            "391/391 [==============================] - 46s 118ms/step - loss: 0.3157 - accuracy: 0.8675 - val_loss: 0.3498 - val_accuracy: 0.8391\n",
            "Epoch 8/10\n",
            "391/391 [==============================] - 47s 121ms/step - loss: 0.3154 - accuracy: 0.8678 - val_loss: 0.3569 - val_accuracy: 0.8516\n",
            "Epoch 9/10\n",
            "391/391 [==============================] - 47s 120ms/step - loss: 0.3130 - accuracy: 0.8676 - val_loss: 0.3341 - val_accuracy: 0.8438\n",
            "Epoch 10/10\n",
            "391/391 [==============================] - 47s 121ms/step - loss: 0.3051 - accuracy: 0.8712 - val_loss: 0.3315 - val_accuracy: 0.8552\n"
          ]
        }
      ]
    },
    {
      "cell_type": "code",
      "source": [
        "test_loss, test_acc = model.evaluate(test_dataset)\n",
        "\n",
        "print('Test Loss:', test_loss)\n",
        "print('Test Accuracy:', test_acc)"
      ],
      "metadata": {
        "colab": {
          "base_uri": "https://localhost:8080/"
        },
        "id": "9xOXRpP-xqDy",
        "outputId": "528d14e8-9952-414f-bf4c-be6bfb8d8a82"
      },
      "execution_count": 22,
      "outputs": [
        {
          "output_type": "stream",
          "name": "stdout",
          "text": [
            "391/391 [==============================] - 19s 49ms/step - loss: 0.3241 - accuracy: 0.8590\n",
            "Test Loss: 0.3240548074245453\n",
            "Test Accuracy: 0.859000027179718\n"
          ]
        }
      ]
    },
    {
      "cell_type": "code",
      "source": [
        "# predict on a sample text without padding.\n",
        "\n",
        "sample_text = ('The movie was not good. The animation and the graphics ''were terrible. I would not recommend this movie.')\n",
        "predictions = model.predict(np.array([sample_text]))\n",
        "print(predictions)"
      ],
      "metadata": {
        "colab": {
          "base_uri": "https://localhost:8080/"
        },
        "id": "b0AOciMbxxEc",
        "outputId": "5b11b123-49d9-4fb7-9df2-543ea2908d7d"
      },
      "execution_count": 23,
      "outputs": [
        {
          "output_type": "stream",
          "name": "stdout",
          "text": [
            "1/1 [==============================] - 5s 5s/step\n",
            "[[-1.4841785]]\n"
          ]
        }
      ]
    },
    {
      "cell_type": "code",
      "source": [
        "plt.figure(figsize=(16, 6))\n",
        "plt.subplot(1, 2, 1)\n",
        "plot_graphs(history, 'accuracy')\n",
        "plt.subplot(1, 2, 2)\n",
        "plot_graphs(history, 'loss')"
      ],
      "metadata": {
        "colab": {
          "base_uri": "https://localhost:8080/",
          "height": 478
        },
        "id": "c0WLLZ9Mx1VE",
        "outputId": "9fe77fe0-f078-4217-fc35-9070ad13ff92"
      },
      "execution_count": 24,
      "outputs": [
        {
          "output_type": "display_data",
          "data": {
            "text/plain": [
              "<Figure size 1600x600 with 2 Axes>"
            ],
            "image/png": "[encoded data removed]"
          },
          "metadata": {}
        }
      ]
    },
    {
      "cell_type": "markdown",
      "source": [
        "**Praktikum 2<br>**\n",
        "Generator Teks dengan RNN"
      ],
      "metadata": {
        "id": "aX8II5u8x3ly"
      }
    },
    {
      "cell_type": "code",
      "source": [
        "import tensorflow as tf\n",
        "import numpy as np\n",
        "import os\n",
        "import time"
      ],
      "metadata": {
        "id": "-ezHyzHWx5Ks"
      },
      "execution_count": 25,
      "outputs": []
    },
    {
      "cell_type": "markdown",
      "source": [
        "Download Dataset Shakespeare"
      ],
      "metadata": {
        "id": "qylvR39ryRf2"
      }
    },
    {
      "cell_type": "code",
      "source": [
        "path_to_file = tf.keras.utils.get_file('shakespeare.txt', 'https://storage.googleapis.com/download.tensorflow.org/data/shakespeare.txt')"
      ],
      "metadata": {
        "colab": {
          "base_uri": "https://localhost:8080/"
        },
        "id": "5TROgVsDx-iA",
        "outputId": "3e3df37d-2312-488f-d3d7-02043fe3d0da"
      },
      "execution_count": 26,
      "outputs": [
        {
          "output_type": "stream",
          "name": "stdout",
          "text": [
            "Downloading data from https://storage.googleapis.com/download.tensorflow.org/data/shakespeare.txt\n",
            "1115394/1115394 [==============================] - 0s 0us/step\n"
          ]
        }
      ]
    },
    {
      "cell_type": "markdown",
      "source": [
        "Load Data"
      ],
      "metadata": {
        "id": "VohlrYIKyOmP"
      }
    },
    {
      "cell_type": "code",
      "source": [
        "# Read, then decode for py2 compat.\n",
        "text = open(path_to_file, 'rb').read().decode(encoding='utf-8')\n",
        "# length of text is the number of characters in it\n",
        "print(f'Length of text: {len(text)} characters')"
      ],
      "metadata": {
        "colab": {
          "base_uri": "https://localhost:8080/"
        },
        "id": "4KhxMSKpyKb9",
        "outputId": "26e98af6-2897-495b-dcd9-91874d45d4b5"
      },
      "execution_count": 27,
      "outputs": [
        {
          "output_type": "stream",
          "name": "stdout",
          "text": [
            "Length of text: 1115394 characters\n"
          ]
        }
      ]
    },
    {
      "cell_type": "code",
      "source": [
        "# Take a look at the first 250 characters in text\n",
        "print(text[:250])"
      ],
      "metadata": {
        "colab": {
          "base_uri": "https://localhost:8080/"
        },
        "id": "SHZNJFjcyMRY",
        "outputId": "9bb4f57c-f765-4c3f-884e-5abe4ee2147a"
      },
      "execution_count": 28,
      "outputs": [
        {
          "output_type": "stream",
          "name": "stdout",
          "text": [
            "First Citizen:\n",
            "Before we proceed any further, hear me speak.\n",
            "\n",
            "All:\n",
            "Speak, speak.\n",
            "\n",
            "First Citizen:\n",
            "You are all resolved rather to die than to famish?\n",
            "\n",
            "All:\n",
            "Resolved. resolved.\n",
            "\n",
            "First Citizen:\n",
            "First, you know Caius Marcius is chief enemy to the people.\n",
            "\n"
          ]
        }
      ]
    },
    {
      "cell_type": "code",
      "source": [
        "# The unique characters in the file\n",
        "vocab = sorted(set(text))\n",
        "print(f'{len(vocab)} unique characters')"
      ],
      "metadata": {
        "colab": {
          "base_uri": "https://localhost:8080/"
        },
        "id": "E0vqFeDMyWKF",
        "outputId": "ad6d0792-989c-4111-8165-0b1e39ac0098"
      },
      "execution_count": 29,
      "outputs": [
        {
          "output_type": "stream",
          "name": "stdout",
          "text": [
            "65 unique characters\n"
          ]
        }
      ]
    },
    {
      "cell_type": "markdown",
      "source": [
        "Olah Teks"
      ],
      "metadata": {
        "id": "CV0TUBUqyZOK"
      }
    },
    {
      "cell_type": "code",
      "source": [
        "example_texts = ['abcdefg', 'xyz']\n",
        "chars = tf.strings.unicode_split(example_texts, input_encoding ='UTF-8')\n",
        "chars"
      ],
      "metadata": {
        "colab": {
          "base_uri": "https://localhost:8080/"
        },
        "id": "d2lmGTQnybqY",
        "outputId": "f817744c-0e4e-4dda-d8c3-f3b62911b55b"
      },
      "execution_count": 30,
      "outputs": [
        {
          "output_type": "execute_result",
          "data": {
            "text/plain": [
              "<tf.RaggedTensor [[b'a', b'b', b'c', b'd', b'e', b'f', b'g'], [b'x', b'y', b'z']]>"
            ]
          },
          "metadata": {},
          "execution_count": 30
        }
      ]
    },
    {
      "cell_type": "code",
      "source": [
        "ids_from_chars = tf.keras.layers.StringLookup(vocabulary=list(vocab), mask_token=None)"
      ],
      "metadata": {
        "id": "m6KEH3sdzAY9"
      },
      "execution_count": 31,
      "outputs": []
    },
    {
      "cell_type": "code",
      "source": [
        "ids = ids_from_chars(chars)\n",
        "ids"
      ],
      "metadata": {
        "colab": {
          "base_uri": "https://localhost:8080/"
        },
        "id": "IcPNnEgmzIFm",
        "outputId": "6beeafea-bdf5-40bd-9f79-1f11868c3e53"
      },
      "execution_count": 32,
      "outputs": [
        {
          "output_type": "execute_result",
          "data": {
            "text/plain": [
              "<tf.RaggedTensor [[40, 41, 42, 43, 44, 45, 46], [63, 64, 65]]>"
            ]
          },
          "metadata": {},
          "execution_count": 32
        }
      ]
    },
    {
      "cell_type": "code",
      "source": [
        "chars_from_ids = tf.keras.layers.StringLookup(\n",
        "    vocabulary=ids_from_chars.get_vocabulary(), invert=True, mask_token=None)"
      ],
      "metadata": {
        "id": "sK7e0-sQzOl2"
      },
      "execution_count": 33,
      "outputs": []
    },
    {
      "cell_type": "code",
      "source": [
        "chars = chars_from_ids(ids)\n",
        "chars"
      ],
      "metadata": {
        "colab": {
          "base_uri": "https://localhost:8080/"
        },
        "id": "GgSURhVpzTBs",
        "outputId": "0ee90932-f34e-4791-e522-3d91cdc1e6e9"
      },
      "execution_count": 34,
      "outputs": [
        {
          "output_type": "execute_result",
          "data": {
            "text/plain": [
              "<tf.RaggedTensor [[b'a', b'b', b'c', b'd', b'e', b'f', b'g'], [b'x', b'y', b'z']]>"
            ]
          },
          "metadata": {},
          "execution_count": 34
        }
      ]
    },
    {
      "cell_type": "code",
      "source": [
        "tf.strings.reduce_join(chars, axis=-1).numpy()"
      ],
      "metadata": {
        "colab": {
          "base_uri": "https://localhost:8080/"
        },
        "id": "yk7K78U8zZJa",
        "outputId": "e1006006-1fed-496e-ac5a-f36d109cb456"
      },
      "execution_count": 35,
      "outputs": [
        {
          "output_type": "execute_result",
          "data": {
            "text/plain": [
              "array([b'abcdefg', b'xyz'], dtype=object)"
            ]
          },
          "metadata": {},
          "execution_count": 35
        }
      ]
    },
    {
      "cell_type": "code",
      "source": [
        "def text_from_ids(ids):\n",
        "  return tf.strings.reduce_join(chars_from_ids(ids), axis=-1)"
      ],
      "metadata": {
        "id": "quK5r1M9zbdF"
      },
      "execution_count": 36,
      "outputs": []
    },
    {
      "cell_type": "markdown",
      "source": [
        "Prediksi"
      ],
      "metadata": {
        "id": "OD73pgfuzioL"
      }
    },
    {
      "cell_type": "code",
      "source": [
        "all_ids = ids_from_chars(tf.strings.unicode_split(text, 'UTF-8'))\n",
        "all_ids"
      ],
      "metadata": {
        "colab": {
          "base_uri": "https://localhost:8080/"
        },
        "id": "9iTxBcoXzhMe",
        "outputId": "8690c7c9-11d4-4447-f01c-aced7dc3479d"
      },
      "execution_count": 37,
      "outputs": [
        {
          "output_type": "execute_result",
          "data": {
            "text/plain": [
              "<tf.Tensor: shape=(1115394,), dtype=int64, numpy=array([19, 48, 57, ..., 46,  9,  1])>"
            ]
          },
          "metadata": {},
          "execution_count": 37
        }
      ]
    },
    {
      "cell_type": "code",
      "source": [
        "ids_dataset = tf.data.Dataset.from_tensor_slices(all_ids)"
      ],
      "metadata": {
        "id": "5PxUR0aWznno"
      },
      "execution_count": 38,
      "outputs": []
    },
    {
      "cell_type": "code",
      "source": [
        "for ids in ids_dataset.take(10):\n",
        "  print(chars_from_ids(ids).numpy().decode('utf-8'))"
      ],
      "metadata": {
        "colab": {
          "base_uri": "https://localhost:8080/"
        },
        "id": "7YchEQsOzp1L",
        "outputId": "14ebd285-bbdc-4b0e-9af3-966ce49708da"
      },
      "execution_count": 39,
      "outputs": [
        {
          "output_type": "stream",
          "name": "stdout",
          "text": [
            "F\n",
            "i\n",
            "r\n",
            "s\n",
            "t\n",
            " \n",
            "C\n",
            "i\n",
            "t\n",
            "i\n"
          ]
        }
      ]
    },
    {
      "cell_type": "code",
      "source": [
        "seq_length = 100"
      ],
      "metadata": {
        "id": "_p5TyvM9zv3D"
      },
      "execution_count": 40,
      "outputs": []
    },
    {
      "cell_type": "code",
      "source": [
        "sequences = ids_dataset.batch(seq_length+1, drop_remainder=True)\n",
        "\n",
        "for seq in sequences.take(1):\n",
        "  print(chars_from_ids(seq))"
      ],
      "metadata": {
        "colab": {
          "base_uri": "https://localhost:8080/"
        },
        "id": "dzrgDhwGzxoj",
        "outputId": "addd6370-1501-442f-b395-a062aa0bd620"
      },
      "execution_count": 41,
      "outputs": [
        {
          "output_type": "stream",
          "name": "stdout",
          "text": [
            "tf.Tensor(\n",
            "[b'F' b'i' b'r' b's' b't' b' ' b'C' b'i' b't' b'i' b'z' b'e' b'n' b':'\n",
            " b'\\n' b'B' b'e' b'f' b'o' b'r' b'e' b' ' b'w' b'e' b' ' b'p' b'r' b'o'\n",
            " b'c' b'e' b'e' b'd' b' ' b'a' b'n' b'y' b' ' b'f' b'u' b'r' b't' b'h'\n",
            " b'e' b'r' b',' b' ' b'h' b'e' b'a' b'r' b' ' b'm' b'e' b' ' b's' b'p'\n",
            " b'e' b'a' b'k' b'.' b'\\n' b'\\n' b'A' b'l' b'l' b':' b'\\n' b'S' b'p' b'e'\n",
            " b'a' b'k' b',' b' ' b's' b'p' b'e' b'a' b'k' b'.' b'\\n' b'\\n' b'F' b'i'\n",
            " b'r' b's' b't' b' ' b'C' b'i' b't' b'i' b'z' b'e' b'n' b':' b'\\n' b'Y'\n",
            " b'o' b'u' b' '], shape=(101,), dtype=string)\n"
          ]
        }
      ]
    },
    {
      "cell_type": "code",
      "source": [
        "for seq in sequences.take(5):\n",
        "  print(text_from_ids(seq).numpy())"
      ],
      "metadata": {
        "colab": {
          "base_uri": "https://localhost:8080/"
        },
        "id": "tI8Ge6jyz0Nz",
        "outputId": "a33d5976-d418-4be2-92b3-d0702f37c884"
      },
      "execution_count": 42,
      "outputs": [
        {
          "output_type": "stream",
          "name": "stdout",
          "text": [
            "b'First Citizen:\\nBefore we proceed any further, hear me speak.\\n\\nAll:\\nSpeak, speak.\\n\\nFirst Citizen:\\nYou '\n",
            "b'are all resolved rather to die than to famish?\\n\\nAll:\\nResolved. resolved.\\n\\nFirst Citizen:\\nFirst, you k'\n",
            "b\"now Caius Marcius is chief enemy to the people.\\n\\nAll:\\nWe know't, we know't.\\n\\nFirst Citizen:\\nLet us ki\"\n",
            "b\"ll him, and we'll have corn at our own price.\\nIs't a verdict?\\n\\nAll:\\nNo more talking on't; let it be d\"\n",
            "b'one: away, away!\\n\\nSecond Citizen:\\nOne word, good citizens.\\n\\nFirst Citizen:\\nWe are accounted poor citi'\n"
          ]
        }
      ]
    },
    {
      "cell_type": "code",
      "source": [
        "def split_input_target(sequence):\n",
        "  input_text = sequence[:-1]\n",
        "  target_text = sequence[1:]\n",
        "  return input_text, target_text"
      ],
      "metadata": {
        "id": "E65khMQdz5LU"
      },
      "execution_count": 43,
      "outputs": []
    },
    {
      "cell_type": "code",
      "source": [
        "split_input_target(list(\"Tensorflow\"))"
      ],
      "metadata": {
        "colab": {
          "base_uri": "https://localhost:8080/"
        },
        "id": "Dk-zsSbR0GJ2",
        "outputId": "cca84c64-a3ec-41fc-d8b7-37b71dc80e94"
      },
      "execution_count": 44,
      "outputs": [
        {
          "output_type": "execute_result",
          "data": {
            "text/plain": [
              "(['T', 'e', 'n', 's', 'o', 'r', 'f', 'l', 'o'],\n",
              " ['e', 'n', 's', 'o', 'r', 'f', 'l', 'o', 'w'])"
            ]
          },
          "metadata": {},
          "execution_count": 44
        }
      ]
    },
    {
      "cell_type": "code",
      "source": [
        "dataset = sequences.map(split_input_target)"
      ],
      "metadata": {
        "id": "IacrNCh-0IeB"
      },
      "execution_count": 45,
      "outputs": []
    },
    {
      "cell_type": "code",
      "source": [
        "for input_example, target_example in dataset.take(1):\n",
        "  print(\"Input :\", text_from_ids(input_example).numpy())\n",
        "  print(\"Target:\", text_from_ids(target_example).numpy())"
      ],
      "metadata": {
        "colab": {
          "base_uri": "https://localhost:8080/"
        },
        "id": "ZA49gG220MAk",
        "outputId": "febbd310-bf2e-47b5-92d3-8f331f2235ed"
      },
      "execution_count": 46,
      "outputs": [
        {
          "output_type": "stream",
          "name": "stdout",
          "text": [
            "Input : b'First Citizen:\\nBefore we proceed any further, hear me speak.\\n\\nAll:\\nSpeak, speak.\\n\\nFirst Citizen:\\nYou'\n",
            "Target: b'irst Citizen:\\nBefore we proceed any further, hear me speak.\\n\\nAll:\\nSpeak, speak.\\n\\nFirst Citizen:\\nYou '\n"
          ]
        }
      ]
    },
    {
      "cell_type": "markdown",
      "source": [
        "Membuat Batch Training"
      ],
      "metadata": {
        "id": "eFfjVKuv0Wgy"
      }
    },
    {
      "cell_type": "code",
      "source": [
        "# Batch size\n",
        "BATCH_SIZE = 64\n",
        "\n",
        "# Buffer size to shuffle the dataset\n",
        "# (TF data is designed to work with possibly infinite sequences,\n",
        "# so it doesn't attempt to shuffle the entire sequence in memory. Instead,\n",
        "# it maintains a buffer in which it shuffles elements).\n",
        "BUFFER_SIZE = 10000\n",
        "\n",
        "dataset = (\n",
        "    dataset\n",
        "    .shuffle(BUFFER_SIZE)\n",
        "    .batch(BATCH_SIZE, drop_remainder=True)\n",
        "    .prefetch(tf.data.experimental.AUTOTUNE))\n",
        "\n",
        "dataset"
      ],
      "metadata": {
        "colab": {
          "base_uri": "https://localhost:8080/"
        },
        "id": "Us82mYfn0VCk",
        "outputId": "85e4a043-f44e-48e7-da79-71db43cf4e9d"
      },
      "execution_count": 47,
      "outputs": [
        {
          "output_type": "execute_result",
          "data": {
            "text/plain": [
              "<_PrefetchDataset element_spec=(TensorSpec(shape=(64, 100), dtype=tf.int64, name=None), TensorSpec(shape=(64, 100), dtype=tf.int64, name=None))>"
            ]
          },
          "metadata": {},
          "execution_count": 47
        }
      ]
    },
    {
      "cell_type": "markdown",
      "source": [
        "Buat Model"
      ],
      "metadata": {
        "id": "FVPc4H8P3OW-"
      }
    },
    {
      "cell_type": "code",
      "source": [
        "# Length of the vocabulary in StringLookup Layer\n",
        "vocab_size = len(ids_from_chars.get_vocabulary())\n",
        "\n",
        "# The embedding dimension\n",
        "embedding_dim = 256\n",
        "\n",
        "# Number of RNN units\n",
        "rnn_units = 1024"
      ],
      "metadata": {
        "id": "BwRUoeHp1-FO"
      },
      "execution_count": 48,
      "outputs": []
    },
    {
      "cell_type": "code",
      "source": [
        "class MyModel(tf.keras.Model):\n",
        "  def __init__(self, vocab_size, embedding_dim, rnn_units):\n",
        "    super().__init__(self)\n",
        "    self.embedding = tf.keras.layers.Embedding(vocab_size, embedding_dim)\n",
        "    self.gru = tf.keras.layers.GRU(rnn_units,\n",
        "                                   return_sequences=True,\n",
        "                                   return_state=True)\n",
        "    self.dense = tf.keras.layers.Dense(vocab_size)\n",
        "\n",
        "  def call(self, inputs, states=None, return_state=False, training=False):\n",
        "    x = inputs\n",
        "    x = self.embedding(x, training=training)\n",
        "    if states is None:\n",
        "      states = self.gru.get_initial_state(x)\n",
        "    x, states = self.gru(x, initial_state=states, training=training)\n",
        "    x = self.dense(x, training=training)\n",
        "\n",
        "    if return_state:\n",
        "      return x, states\n",
        "    else:\n",
        "      return x"
      ],
      "metadata": {
        "id": "gVnJYkYS3R2g"
      },
      "execution_count": 49,
      "outputs": []
    },
    {
      "cell_type": "code",
      "source": [
        "model = MyModel(\n",
        "    vocab_size=vocab_size,\n",
        "    embedding_dim=embedding_dim,\n",
        "    rnn_units=rnn_units)"
      ],
      "metadata": {
        "id": "_thQcHzb3WSi"
      },
      "execution_count": 50,
      "outputs": []
    },
    {
      "cell_type": "markdown",
      "source": [
        "Uji Model"
      ],
      "metadata": {
        "id": "Pm5gmXLY3aT1"
      }
    },
    {
      "cell_type": "code",
      "source": [
        "for input_example_batch, target_example_batch in dataset.take(1):\n",
        "    example_batch_predictions = model(input_example_batch)\n",
        "    print(example_batch_predictions.shape, \"# (batch_size, sequence_length, vocab_size)\")"
      ],
      "metadata": {
        "colab": {
          "base_uri": "https://localhost:8080/"
        },
        "id": "ijtTiMBA3cZP",
        "outputId": "b6b296fe-42ae-4d6d-fdf8-6998ece98c70"
      },
      "execution_count": 51,
      "outputs": [
        {
          "output_type": "stream",
          "name": "stdout",
          "text": [
            "(64, 100, 66) # (batch_size, sequence_length, vocab_size)\n"
          ]
        }
      ]
    },
    {
      "cell_type": "code",
      "source": [
        "model.summary()"
      ],
      "metadata": {
        "colab": {
          "base_uri": "https://localhost:8080/"
        },
        "id": "mt_iC0-b3fB9",
        "outputId": "3a185b19-bef6-4d75-d142-26f6a88d9059"
      },
      "execution_count": 52,
      "outputs": [
        {
          "output_type": "stream",
          "name": "stdout",
          "text": [
            "Model: \"my_model\"\n",
            "_________________________________________________________________\n",
            " Layer (type)                Output Shape              Param #   \n",
            "=================================================================\n",
            " embedding_2 (Embedding)     multiple                  16896     \n",
            "                                                                 \n",
            " gru (GRU)                   multiple                  3938304   \n",
            "                                                                 \n",
            " dense_4 (Dense)             multiple                  67650     \n",
            "                                                                 \n",
            "=================================================================\n",
            "Total params: 4022850 (15.35 MB)\n",
            "Trainable params: 4022850 (15.35 MB)\n",
            "Non-trainable params: 0 (0.00 Byte)\n",
            "_________________________________________________________________\n"
          ]
        }
      ]
    },
    {
      "cell_type": "code",
      "source": [
        "sampled_indices = tf.random.categorical(example_batch_predictions[0], num_samples=1)\n",
        "sampled_indices = tf.squeeze(sampled_indices, axis=-1).numpy()"
      ],
      "metadata": {
        "id": "WDpKgT_d3iOG"
      },
      "execution_count": 53,
      "outputs": []
    },
    {
      "cell_type": "code",
      "source": [
        "sampled_indices"
      ],
      "metadata": {
        "colab": {
          "base_uri": "https://localhost:8080/"
        },
        "id": "flRUPAcd3sxV",
        "outputId": "c8889317-f6b1-4ffb-fa02-0da0df91a245"
      },
      "execution_count": 54,
      "outputs": [
        {
          "output_type": "execute_result",
          "data": {
            "text/plain": [
              "array([36, 53, 36,  4, 48, 32, 25,  8, 44, 65, 32, 65, 13, 47, 11, 61, 35,\n",
              "       31, 48, 18, 54, 52, 13, 19, 39, 29, 17, 63, 46, 25, 46, 29, 58, 65,\n",
              "       54, 17, 42, 22, 46, 44, 15, 52, 58, 47, 63, 22,  4, 54, 23, 11, 20,\n",
              "       49, 41, 48, 10, 28, 55, 18, 49, 31, 38, 61, 63, 62, 46, 62, 40, 21,\n",
              "       43,  9, 12, 64, 39, 51,  8, 22, 51, 64, 48,  8, 59, 57, 64, 12, 12,\n",
              "       55, 11, 56, 17, 47, 44, 47, 21, 51, 42, 62, 38, 47, 35, 33])"
            ]
          },
          "metadata": {},
          "execution_count": 54
        }
      ]
    },
    {
      "cell_type": "code",
      "source": [
        "print(\"Input:\\n\", text_from_ids(input_example_batch[0]).numpy())\n",
        "print()\n",
        "print(\"Next Char Predictions:\\n\", text_from_ids(sampled_indices).numpy())"
      ],
      "metadata": {
        "colab": {
          "base_uri": "https://localhost:8080/"
        },
        "id": "eBVja8JQ4MuL",
        "outputId": "20ed8080-9871-4d01-e3d6-b0cd4e3b1ff9"
      },
      "execution_count": 55,
      "outputs": [
        {
          "output_type": "stream",
          "name": "stdout",
          "text": [
            "Input:\n",
            " b\"ate hast thou to him?\\n\\nShepherd:\\nI know not, an't like you.\\n\\nClown:\\nAdvocate's the court-word for a \"\n",
            "\n",
            "Next Char Predictions:\n",
            " b'WnW$iSL-ezSz?h:vVRiEom?FZPDxgLgPszoDcIgeBmshxI$oJ:Gjbi3OpEjRYvxwgwaHd.;yZl-Ilyi-try;;p:qDhehHlcwYhVT'\n"
          ]
        }
      ]
    },
    {
      "cell_type": "markdown",
      "source": [
        "Train Model"
      ],
      "metadata": {
        "id": "mojscd-x4bhs"
      }
    },
    {
      "cell_type": "code",
      "source": [
        "loss = tf.losses.SparseCategoricalCrossentropy(from_logits=True)"
      ],
      "metadata": {
        "id": "9WHFyxyZ4agX"
      },
      "execution_count": 56,
      "outputs": []
    },
    {
      "cell_type": "code",
      "source": [
        "example_batch_mean_loss = loss(target_example_batch, example_batch_predictions)\n",
        "print(\"Prediction shape: \", example_batch_predictions.shape, \" # (batch_size, sequence_length, vocab_size)\")\n",
        "print(\"Mean loss:        \", example_batch_mean_loss)"
      ],
      "metadata": {
        "colab": {
          "base_uri": "https://localhost:8080/"
        },
        "id": "oqrjMPwn5EMN",
        "outputId": "21ea43ce-3eda-466f-ba39-edad46d6e5a0"
      },
      "execution_count": 57,
      "outputs": [
        {
          "output_type": "stream",
          "name": "stdout",
          "text": [
            "Prediction shape:  (64, 100, 66)  # (batch_size, sequence_length, vocab_size)\n",
            "Mean loss:         tf.Tensor(4.1889105, shape=(), dtype=float32)\n"
          ]
        }
      ]
    },
    {
      "cell_type": "code",
      "source": [
        "tf.exp(example_batch_mean_loss).numpy()"
      ],
      "metadata": {
        "colab": {
          "base_uri": "https://localhost:8080/"
        },
        "id": "YH3pBeYm5c_1",
        "outputId": "a6bfb7da-6595-4c37-856a-bbec091b6eb8"
      },
      "execution_count": 58,
      "outputs": [
        {
          "output_type": "execute_result",
          "data": {
            "text/plain": [
              "65.9509"
            ]
          },
          "metadata": {},
          "execution_count": 58
        }
      ]
    },
    {
      "cell_type": "code",
      "source": [
        "model.compile(optimizer='adam', loss=loss)"
      ],
      "metadata": {
        "id": "VqAAGOXB5euE"
      },
      "execution_count": 59,
      "outputs": []
    },
    {
      "cell_type": "code",
      "source": [
        "# Directory where the checkpoints will be saved\n",
        "checkpoint_dir = './training_checkpoints'\n",
        "# Name of the checkpoint files\n",
        "checkpoint_prefix = os.path.join(checkpoint_dir, \"ckpt_{epoch}\")\n",
        "\n",
        "checkpoint_callback = tf.keras.callbacks.ModelCheckpoint(\n",
        "    filepath=checkpoint_prefix,\n",
        "    save_weights_only=True)"
      ],
      "metadata": {
        "id": "0hWkvC_F6hrn"
      },
      "execution_count": 60,
      "outputs": []
    },
    {
      "cell_type": "code",
      "source": [
        "EPOCHS = 20"
      ],
      "metadata": {
        "id": "bkdkLGEE6lyW"
      },
      "execution_count": 61,
      "outputs": []
    },
    {
      "cell_type": "code",
      "source": [
        "history = model.fit(dataset, epochs=EPOCHS, callbacks=[checkpoint_callback])"
      ],
      "metadata": {
        "colab": {
          "base_uri": "https://localhost:8080/"
        },
        "id": "mwlvn_gE6nzM",
        "outputId": "590e41ec-b144-4448-f1df-27bed5ba06db"
      },
      "execution_count": 62,
      "outputs": [
        {
          "output_type": "stream",
          "name": "stdout",
          "text": [
            "Epoch 1/20\n",
            "172/172 [==============================] - 13s 55ms/step - loss: 2.7222\n",
            "Epoch 2/20\n",
            "172/172 [==============================] - 11s 54ms/step - loss: 1.9934\n",
            "Epoch 3/20\n",
            "172/172 [==============================] - 11s 55ms/step - loss: 1.7127\n",
            "Epoch 4/20\n",
            "172/172 [==============================] - 12s 56ms/step - loss: 1.5509\n",
            "Epoch 5/20\n",
            "172/172 [==============================] - 11s 56ms/step - loss: 1.4508\n",
            "Epoch 6/20\n",
            "172/172 [==============================] - 11s 56ms/step - loss: 1.3824\n",
            "Epoch 7/20\n",
            "172/172 [==============================] - 12s 57ms/step - loss: 1.3297\n",
            "Epoch 8/20\n",
            "172/172 [==============================] - 11s 57ms/step - loss: 1.2842\n",
            "Epoch 9/20\n",
            "172/172 [==============================] - 12s 58ms/step - loss: 1.2420\n",
            "Epoch 10/20\n",
            "172/172 [==============================] - 12s 58ms/step - loss: 1.2020\n",
            "Epoch 11/20\n",
            "172/172 [==============================] - 12s 58ms/step - loss: 1.1612\n",
            "Epoch 12/20\n",
            "172/172 [==============================] - 12s 59ms/step - loss: 1.1198\n",
            "Epoch 13/20\n",
            "172/172 [==============================] - 12s 60ms/step - loss: 1.0771\n",
            "Epoch 14/20\n",
            "172/172 [==============================] - 12s 61ms/step - loss: 1.0299\n",
            "Epoch 15/20\n",
            "172/172 [==============================] - 13s 60ms/step - loss: 0.9816\n",
            "Epoch 16/20\n",
            "172/172 [==============================] - 12s 59ms/step - loss: 0.9302\n",
            "Epoch 17/20\n",
            "172/172 [==============================] - 12s 61ms/step - loss: 0.8796\n",
            "Epoch 18/20\n",
            "172/172 [==============================] - 12s 61ms/step - loss: 0.8263\n",
            "Epoch 19/20\n",
            "172/172 [==============================] - 12s 61ms/step - loss: 0.7747\n",
            "Epoch 20/20\n",
            "172/172 [==============================] - 12s 61ms/step - loss: 0.7259\n"
          ]
        }
      ]
    },
    {
      "cell_type": "markdown",
      "source": [
        "Generate Teks"
      ],
      "metadata": {
        "id": "uhogIxIN6tFd"
      }
    },
    {
      "cell_type": "code",
      "source": [
        "class OneStep(tf.keras.Model):\n",
        "  def __init__(self, model, chars_from_ids, ids_from_chars, temperature=1.0):\n",
        "    super().__init__()\n",
        "    self.temperature = temperature\n",
        "    self.model = model\n",
        "    self.chars_from_ids = chars_from_ids\n",
        "    self.ids_from_chars = ids_from_chars\n",
        "\n",
        "    # Create a mask to prevent \"[UNK]\" from being generated.\n",
        "    skip_ids = self.ids_from_chars(['[UNK]'])[:, None]\n",
        "    sparse_mask = tf.SparseTensor(\n",
        "        # Put a -inf at each bad index.\n",
        "        values=[-float('inf')]*len(skip_ids),\n",
        "        indices=skip_ids,\n",
        "        # Match the shape to the vocabulary\n",
        "        dense_shape=[len(ids_from_chars.get_vocabulary())])\n",
        "    self.prediction_mask = tf.sparse.to_dense(sparse_mask)\n",
        "\n",
        "  @tf.function\n",
        "  def generate_one_step(self, inputs, states=None):\n",
        "    # Convert strings to token IDs.\n",
        "    input_chars = tf.strings.unicode_split(inputs, 'UTF-8')\n",
        "    input_ids = self.ids_from_chars(input_chars).to_tensor()\n",
        "\n",
        "    # Run the model.\n",
        "    # predicted_logits.shape is [batch, char, next_char_logits]\n",
        "    predicted_logits, states = self.model(inputs=input_ids, states=states,\n",
        "                                          return_state=True)\n",
        "    # Only use the last prediction.\n",
        "    predicted_logits = predicted_logits[:, -1, :]\n",
        "    predicted_logits = predicted_logits/self.temperature\n",
        "    # Apply the prediction mask: prevent \"[UNK]\" from being generated.\n",
        "    predicted_logits = predicted_logits + self.prediction_mask\n",
        "\n",
        "    # Sample the output logits to generate token IDs.\n",
        "    predicted_ids = tf.random.categorical(predicted_logits, num_samples=1)\n",
        "    predicted_ids = tf.squeeze(predicted_ids, axis=-1)\n",
        "\n",
        "    # Convert from token ids to characters\n",
        "    predicted_chars = self.chars_from_ids(predicted_ids)\n",
        "\n",
        "    # Return the characters and model state.\n",
        "    return predicted_chars, states"
      ],
      "metadata": {
        "id": "TJHhZytA6rfr"
      },
      "execution_count": 63,
      "outputs": []
    },
    {
      "cell_type": "code",
      "source": [
        "one_step_model = OneStep(model, chars_from_ids, ids_from_chars)"
      ],
      "metadata": {
        "id": "YVddX5II63kl"
      },
      "execution_count": 64,
      "outputs": []
    },
    {
      "cell_type": "code",
      "source": [
        "start = time.time()\n",
        "states = None\n",
        "next_char = tf.constant(['ROMEO:'])\n",
        "result = [next_char]\n",
        "\n",
        "for n in range(1000):\n",
        "  next_char, states = one_step_model.generate_one_step(next_char, states=states)\n",
        "  result.append(next_char)\n",
        "\n",
        "result = tf.strings.join(result)\n",
        "end = time.time()\n",
        "print(result[0].numpy().decode('utf-8'), '\\n\\n' + '_'*80)\n",
        "print('\\nRun time:', end - start)"
      ],
      "metadata": {
        "colab": {
          "base_uri": "https://localhost:8080/"
        },
        "id": "v_BN-bhd68eq",
        "outputId": "b893340b-3e43-4594-9d37-fbbbd3038d23"
      },
      "execution_count": 65,
      "outputs": [
        {
          "output_type": "stream",
          "name": "stdout",
          "text": [
            "ROMEO:\n",
            "Most royal, having so; a scrattery in this;\n",
            "For I am in a traitorance to see this\n",
            "Friar Juliet hath Lewis been man? Hast thou your speeches\n",
            "Claudio beeasing son.\n",
            "\n",
            "MIRANDA:\n",
            "Mistress\n",
            "Shall win the waves as ordering our means?\n",
            "There's saddem of your households plant Fearful'd,\n",
            "Because me it? come, most gracious neighbour, I warrant, honest,\n",
            "According to the trath. Therefore follow me\n",
            "AY, Coven'd with all this gallant:\n",
            "Madam, good night: is't not of mercy!\n",
            "King Henry incornem'd to put outay\n",
            "Your love's fair ladies' an eager meature.\n",
            "\n",
            "QUEEN ELIZABETH:\n",
            "Thou wert not war I England for a wilded wie?\n",
            "\n",
            "DUKE OF YORK:\n",
            "Well: there's no canques forth yourself.\n",
            "\n",
            "BUCKINGHAM:\n",
            "My Lord,\n",
            "I had thoughts to death and hear. You seest Kate?\n",
            "Return hath tears a kingdom wretch.\n",
            "And, in my state, I rest, and be not heard thee so.\n",
            "\n",
            "DUCHESS OF YORK:\n",
            "I pray you, sir, the beheld thereby thee\n",
            "To this slould cheer eloved against my\n",
            "Execution.\n",
            "\n",
            "LUCIO:\n",
            "Marry, so I am, boy? O both where's the matter?\n",
            "\n",
            "CORIOLANUS:\n",
            "At Ant \n",
            "\n",
            "________________________________________________________________________________\n",
            "\n",
            "Run time: 3.8839612007141113\n"
          ]
        }
      ]
    },
    {
      "cell_type": "code",
      "source": [
        "start = time.time()\n",
        "states = None\n",
        "next_char = tf.constant(['ROMEO:', 'ROMEO:', 'ROMEO:', 'ROMEO:', 'ROMEO:'])\n",
        "result = [next_char]\n",
        "\n",
        "for n in range(1000):\n",
        "  next_char, states = one_step_model.generate_one_step(next_char, states=states)\n",
        "  result.append(next_char)\n",
        "\n",
        "result = tf.strings.join(result)\n",
        "end = time.time()\n",
        "print(result, '\\n\\n' + '_'*80)\n",
        "print('\\nRun time:', end - start)"
      ],
      "metadata": {
        "colab": {
          "base_uri": "https://localhost:8080/"
        },
        "id": "D6UnYVDD68ZO",
        "outputId": "0e3c787a-6e20-450f-a3d5-3da4c05aea50"
      },
      "execution_count": 66,
      "outputs": [
        {
          "output_type": "stream",
          "name": "stdout",
          "text": [
            "tf.Tensor(\n",
            "[b\"ROMEO:\\nGood Paris, yet my fant o' the leason; buy moved to sue that you\\nhow it please either than fact of the town.\\n\\nMayor:\\nMy gracious sovereign, now thou owest that think\\nyou you at all tuary.\\n\\nGLOUCESTER:\\nThe Volsces naked, so farewell and true:\\nI think so well and suitors to him and hangs to heaven!\\nO, belingnorsoments, good fellows are gone, ten times,\\nAnd last our soldiers unto the Tower,\\nAnd some tribunes of the devices of\\nhis royal point your tribunes known,\\nAs now, for standing in thy looks.\\nO, 'twas the leanness is so many motions\\nare, for their own reports, before this dishone\\nThe duke's name; and, old VAlentius;\\nHere comes the thing I bid thee gaust in brist\\nAn allawnary of his last.\\nAnd so, he lay sweet Bianca, both hereafter,\\nSince I shall crime my those that ever east where other\\nBefore thy son and his owe like a lamb.\\nNow, as I shall, she do see them,\\nWhich not take courtesy?\\n\\nLEONTES:\\nWell, my lord!\\n\\nJULIET:\\nNo, none of him, for I have many methink on\\nHowly in your soldier, \"\n",
            " b\"ROMEO:\\nThen have this festering tears that e'er I but\\nLord Angelo: cannot thy and show himself to\\nwench thee, to Brittany.\\nAtate, herewith at boots, straight dead, God shall proceed\\nIn him here tender years to twenty ticks,\\nWhich seem'd a happy days indeed the nexter\\nAnd those that slew them fair beloved; he doth left you\\nBetween us; all of us the time the orang,\\nBut sweet Bohemia and the orator\\nAnd bow poisonson's before I would shall be hangiled\\nThere's no thanks: Henry, young and hangty, impedient\\nWhilst thou weet with their beddars, wherein\\nWhose fond should entreat me lasts thy weakness\\nTo him, even there it sorrow. If I charlen you;\\nHold this brave tongue, who cut in he?\\nWhat, art thou make me waked, for aught but lovers' tongue?\\nThe wilds are humaner to return from strice\\nBy an acress to deny him.\\n\\nShepherd:\\nMy aught generatils o' the effects,\\nAs in awary, to make thy daughter's bone,\\nHaving some confider here, have taken sun\\nHe study and do I love the lunncoms told\\none:--\\nYou, sir, m\"\n",
            " b\"ROMEO:\\nWhat follows there?\\n\\nPOLIXENES:\\nWhat is the news it?\\n\\nCAMILLO:\\nYou may my sovereign;\\nBut not a maidented home.\\n\\nBENVOLIO:\\nHe hath mine eyes in him?\\n\\nAll Citizen:\\nYou have poison'd thrial; no more before the Ourth is, whence\\nEdward will knowledge my own life's meed and lawe\\nTo make leave to thy admiring, beloved, the fixer\\nNear to the crown and Pubbatavoly:\\nKighness, that was young that they be\\nDeath in a grave by him, for, ere't\\nTill you should widow you, if you hear of us\\nAnd by the sun your grace, which to have wars\\nAnd like me blind them forth the carder feet\\nWhich way is not beget?\\nO excellent deggeres! God so, by attentadied,\\nI doubt it like my soul I mournfall our mouth.\\nColvecle! Pompey, do you faith; I know not what; but\\nsometimes you look'd for death: your rebels are four house.\\nNow, by Saint Paul, moubt not but by being,--pover'd! he must\\ndie, good fright about them, and they can fellow\\nWhile Buhnict Angelo so summer sitte?\\nO petty haste thou shouldst this bed-herd, and oath\"\n",
            " b\"ROMEO:\\nUncharge thee! what, no disciandall deliver her his kind?\\n\\nGLOUCESTER:\\nWhy should say you?\\n\\nROMEO:\\nI three here brave itself but what is dead.\\nWhat say you? Henry nor your eye, so defend are heretcle,\\nBolingbroke's taint.\\n\\nSICINIUS:\\nWhere is the proofest sentence,\\nI will withdraw to put thee with thy liege,\\nI mean, my gracious looks of old Veeen.\\n\\nMENENIUS:\\nRight,\\nTo have my little to him: my peace your honour's rog,\\nWhen such adopteth my inch of his resolping harse,\\nWith tender beaute's throath the lady's head:\\nTo make an evil die Your boy.\\n\\nClown:\\nNay, this same very hands your books,\\nAs that tune bride his ears? muth all their men\\nWill be as great a play--O play 'Health's death?\\n\\nQUEEN MARGARET:\\nKing Leinouse\\nWho is here? for I have made you leave?\\n\\nLEONTES:\\nYour bodies are married to minnet,\\nand marry me! must then, Hastings, level means\\nThat Mangused and of my faith doth he live,\\nWith new-devotion suppliants may strike and think\\nWould make memalier matter wonders, marryals\\ndid la\"\n",
            " b\"ROMEO:\\nThe mayor is most unnatch'd; being his pondent\\nWill Rolack hange on faithly should do go.\\n\\nLEONTES:\\nAlas, that hast upon exquonarys for a\\nCherbying good to a fault create this cowardomp your sorper'd slaughte:\\nCould yet a mistress are most undermetters\\nThat although this blam of brief and pluck and hels.\\nFor why, we have done to him and he ald flay.\\n\\nDUCHESS OF YORK:\\nAlack, for God's sake, tombabeless out of bride:\\nShall we got hang them, who's your bloody degared\\nWeeping in our commonwainder, boy. Content thee,--these\\nwrinkled thou, Aumerle, do but forget to think.\\nHang ye, or do??\\n\\nFLORIZEL:\\nWords over and all;\\nThink you, we should have last.\\n\\nMOPSA:\\nPray you, peace: 'tis not myself now on the right:\\nSay that this same tenet Richard more pinch'd\\nWith rote. Boy! is such supposed knees sweet,\\nNo father's dukedom, then, Forfeit, not pronounce,\\nNow, or we may not at all kind already:\\nHis rasilight loss for I-my body Hell,\\nAmmoch'd thee upon the slights of the air,\\nOf the Aufidius, my gl\"], shape=(5,), dtype=string) \n",
            "\n",
            "________________________________________________________________________________\n",
            "\n",
            "Run time: 3.4716434478759766\n"
          ]
        }
      ]
    },
    {
      "cell_type": "markdown",
      "source": [
        "Ekspor Model Generator"
      ],
      "metadata": {
        "id": "dHv4aoVd7Bqe"
      }
    },
    {
      "cell_type": "code",
      "source": [
        "tf.saved_model.save(one_step_model, 'one_step')\n",
        "one_step_reloaded = tf.saved_model.load('one_step')"
      ],
      "metadata": {
        "colab": {
          "base_uri": "https://localhost:8080/"
        },
        "id": "W_DjjLSV7Aiv",
        "outputId": "d08d7b83-c973-4945-8ec2-1d450e84f06c"
      },
      "execution_count": 67,
      "outputs": [
        {
          "output_type": "stream",
          "name": "stderr",
          "text": [
            "WARNING:tensorflow:Skipping full serialization of Keras layer <__main__.OneStep object at 0x7aaf8d3ccf10>, because it is not built.\n",
            "WARNING:tensorflow:Model's `__init__()` arguments contain non-serializable objects. Please implement a `get_config()` method in the subclassed Model for proper saving and loading. Defaulting to empty config.\n",
            "WARNING:tensorflow:Model's `__init__()` arguments contain non-serializable objects. Please implement a `get_config()` method in the subclassed Model for proper saving and loading. Defaulting to empty config.\n"
          ]
        }
      ]
    },
    {
      "cell_type": "code",
      "source": [
        "states = None\n",
        "next_char = tf.constant(['ROMEO:'])\n",
        "result = [next_char]\n",
        "\n",
        "for n in range(100):\n",
        "  next_char, states = one_step_reloaded.generate_one_step(next_char, states=states)\n",
        "  result.append(next_char)\n",
        "\n",
        "print(tf.strings.join(result)[0].numpy().decode(\"utf-8\"))"
      ],
      "metadata": {
        "colab": {
          "base_uri": "https://localhost:8080/"
        },
        "id": "LQrwGvn87FbW",
        "outputId": "ed7ef71c-4865-4f22-d755-0be4619745d9"
      },
      "execution_count": 68,
      "outputs": [
        {
          "output_type": "stream",
          "name": "stdout",
          "text": [
            "ROMEO:\n",
            "Good queen, God give your silence! is it go with this false gloutusy\n",
            "Cury whil you see them here he\n"
          ]
        }
      ]
    },
    {
      "cell_type": "markdown",
      "source": [
        "**Tugas Praktikum**"
      ],
      "metadata": {
        "id": "SC4C-kEsTLfb"
      }
    },
    {
      "cell_type": "code",
      "source": [
        "class CustomTraining(MyModel):\n",
        "  @tf.function\n",
        "  def train_step(self, inputs):\n",
        "    inputs, labels = inputs\n",
        "    with tf.GradientTape() as tape:\n",
        "      predictions = self(inputs, training=True)\n",
        "      loss = self.loss(labels, predictions)\n",
        "      grads = tape.gradient(loss, model.trainable_variables)\n",
        "      self.optimizer.apply_gradients(zip(grads, model.trainable_variables))\n",
        "\n",
        "    return {'loss': loss}"
      ],
      "metadata": {
        "id": "cWeJwp5w1lKW"
      },
      "execution_count": 69,
      "outputs": []
    },
    {
      "cell_type": "code",
      "source": [
        "model = CustomTraining(\n",
        "    vocab_size=len(ids_from_chars.get_vocabulary()),\n",
        "    embedding_dim=embedding_dim,\n",
        "    rnn_units=rnn_units)"
      ],
      "metadata": {
        "id": "K5B1v002_dBB"
      },
      "execution_count": 70,
      "outputs": []
    },
    {
      "cell_type": "code",
      "source": [
        "model.compile(optimizer = tf.keras.optimizers.Adam(),\n",
        "              loss=tf.keras.losses.SparseCategoricalCrossentropy(from_logits=True))"
      ],
      "metadata": {
        "id": "W4pkn5KB_n6h"
      },
      "execution_count": 71,
      "outputs": []
    },
    {
      "cell_type": "code",
      "source": [
        "model.fit(dataset, epochs=1)"
      ],
      "metadata": {
        "colab": {
          "base_uri": "https://localhost:8080/"
        },
        "id": "LwbbqSp-_s2g",
        "outputId": "e2651621-2d81-4e02-cb00-e03109ca8c09"
      },
      "execution_count": 72,
      "outputs": [
        {
          "output_type": "stream",
          "name": "stdout",
          "text": [
            "172/172 [==============================] - 15s 60ms/step - loss: 2.7290\n"
          ]
        },
        {
          "output_type": "execute_result",
          "data": {
            "text/plain": [
              "<keras.src.callbacks.History at 0x7aaf8d121ab0>"
            ]
          },
          "metadata": {},
          "execution_count": 72
        }
      ]
    },
    {
      "cell_type": "code",
      "source": [
        "EPOCHS = 10\n",
        "\n",
        "mean = tf.metrics.Mean()\n",
        "\n",
        "for epoch in range(EPOCHS):\n",
        "  start = time.time()\n",
        "\n",
        "  mean.reset_states()\n",
        "  for (batch_n, (inp, target)) in enumerate(dataset):\n",
        "    logs = model.train_step([inp, target])\n",
        "    mean.update_state(logs['loss'])\n",
        "\n",
        "    if batch_n % 50 == 0:\n",
        "      template = f\"Epoch {epoch+1} Batch {batch_n} Loss {logs['loss']:.4f}\"\n",
        "      print(template)\n",
        "\n",
        "      # saving (checkpoint) the model every 5 epochs\n",
        "      if (epoch + 1) % 5 == 0:\n",
        "        model.save_weights(checkpoint_prefix.format(epoch=epoch))\n",
        "\n",
        "\n",
        "        print()\n",
        "        print(f'Epoch {epoch+1} Loss: {mean.result().numpy():.4f}')\n",
        "        print(f'Time taken for 1 epoch {time.time() - start:.2f} sec')\n",
        "        print(\"_\"*80)\n",
        "\n",
        "model.save_weights(checkpoint_prefix.format(epoch=epoch))"
      ],
      "metadata": {
        "colab": {
          "base_uri": "https://localhost:8080/"
        },
        "id": "ZMiHlijc_soz",
        "outputId": "3e9ffb98-c7b9-4e60-ca87-df2b0889833b"
      },
      "execution_count": 73,
      "outputs": [
        {
          "output_type": "stream",
          "name": "stdout",
          "text": [
            "Epoch 1 Batch 0 Loss 2.1990\n",
            "Epoch 1 Batch 50 Loss 2.0816\n",
            "Epoch 1 Batch 100 Loss 1.9526\n",
            "Epoch 1 Batch 150 Loss 1.9038\n",
            "Epoch 2 Batch 0 Loss 1.8260\n",
            "Epoch 2 Batch 50 Loss 1.7727\n",
            "Epoch 2 Batch 100 Loss 1.6516\n",
            "Epoch 2 Batch 150 Loss 1.6668\n",
            "Epoch 3 Batch 0 Loss 1.6273\n",
            "Epoch 3 Batch 50 Loss 1.6046\n",
            "Epoch 3 Batch 100 Loss 1.5375\n",
            "Epoch 3 Batch 150 Loss 1.5358\n",
            "Epoch 4 Batch 0 Loss 1.5112\n",
            "Epoch 4 Batch 50 Loss 1.4998\n",
            "Epoch 4 Batch 100 Loss 1.4360\n",
            "Epoch 4 Batch 150 Loss 1.4595\n",
            "Epoch 5 Batch 0 Loss 1.4198\n",
            "\n",
            "Epoch 5 Loss: 1.4198\n",
            "Time taken for 1 epoch 1.83 sec\n",
            "________________________________________________________________________________\n",
            "Epoch 5 Batch 50 Loss 1.4195\n",
            "\n",
            "Epoch 5 Loss: 1.3956\n",
            "Time taken for 1 epoch 4.75 sec\n",
            "________________________________________________________________________________\n",
            "Epoch 5 Batch 100 Loss 1.3515\n",
            "\n",
            "Epoch 5 Loss: 1.3925\n",
            "Time taken for 1 epoch 7.69 sec\n",
            "________________________________________________________________________________\n",
            "Epoch 5 Batch 150 Loss 1.3860\n",
            "\n",
            "Epoch 5 Loss: 1.3883\n",
            "Time taken for 1 epoch 10.66 sec\n",
            "________________________________________________________________________________\n",
            "Epoch 6 Batch 0 Loss 1.3083\n",
            "Epoch 6 Batch 50 Loss 1.3371\n",
            "Epoch 6 Batch 100 Loss 1.2914\n",
            "Epoch 6 Batch 150 Loss 1.2947\n",
            "Epoch 7 Batch 0 Loss 1.2461\n",
            "Epoch 7 Batch 50 Loss 1.2764\n",
            "Epoch 7 Batch 100 Loss 1.3003\n",
            "Epoch 7 Batch 150 Loss 1.2645\n",
            "Epoch 8 Batch 0 Loss 1.2292\n",
            "Epoch 8 Batch 50 Loss 1.2631\n",
            "Epoch 8 Batch 100 Loss 1.2425\n",
            "Epoch 8 Batch 150 Loss 1.2513\n",
            "Epoch 9 Batch 0 Loss 1.1957\n",
            "Epoch 9 Batch 50 Loss 1.1877\n",
            "Epoch 9 Batch 100 Loss 1.2325\n",
            "Epoch 9 Batch 150 Loss 1.2049\n",
            "Epoch 10 Batch 0 Loss 1.1699\n",
            "\n",
            "Epoch 10 Loss: 1.1699\n",
            "Time taken for 1 epoch 2.25 sec\n",
            "________________________________________________________________________________\n",
            "Epoch 10 Batch 50 Loss 1.1606\n",
            "\n",
            "Epoch 10 Loss: 1.1577\n",
            "Time taken for 1 epoch 5.35 sec\n",
            "________________________________________________________________________________\n",
            "Epoch 10 Batch 100 Loss 1.1853\n",
            "\n",
            "Epoch 10 Loss: 1.1650\n",
            "Time taken for 1 epoch 8.37 sec\n",
            "________________________________________________________________________________\n",
            "Epoch 10 Batch 150 Loss 1.2305\n",
            "\n",
            "Epoch 10 Loss: 1.1720\n",
            "Time taken for 1 epoch 11.47 sec\n",
            "________________________________________________________________________________\n"
          ]
        }
      ]
    }
  ]
}