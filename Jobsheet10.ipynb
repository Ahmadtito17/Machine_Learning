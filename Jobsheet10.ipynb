{
  "cells": [
    {
      "cell_type": "markdown",
      "metadata": {
        "id": "view-in-github",
        "colab_type": "text"
      },
      "source": [
        "<a href=\"https://colab.research.google.com/github/Ahmadtito17/Machine_Learning/blob/main/Jobsheet10.ipynb\" target=\"_parent\"><img src=\"https://colab.research.google.com/assets/colab-badge.svg\" alt=\"Open In Colab\"/></a>"
      ]
    },
    {
      "cell_type": "markdown",
      "metadata": {
        "id": "uIdUAIsFI5KP"
      },
      "source": [
        "Nama   : Ahmad Tito NH\n",
        "\n",
        "NIM    : 2141720265\n",
        "\n",
        "Kelas  : TI-3G"
      ]
    },
    {
      "cell_type": "markdown",
      "metadata": {
        "id": "1uLwbcOPJAis"
      },
      "source": [
        "_________________________________________\n",
        "\n",
        "**Jobsheet 10 - Recurrent Neural Network (RNN)**\n",
        "\n",
        "_________________________________________"
      ]
    },
    {
      "cell_type": "markdown",
      "metadata": {
        "id": "0SIJHPbKJM3F"
      },
      "source": [
        "**Praktikum 1<br>**\n",
        "RNN untuk Analisis Sentimen"
      ]
    },
    {
      "cell_type": "code",
      "execution_count": null,
      "metadata": {
        "id": "dP3a_GVdI3SG"
      },
      "outputs": [],
      "source": [
        "# Setup\n",
        "import numpy as np\n",
        "import tensorflow_datasets as tfds\n",
        "import tensorflow as tf\n",
        "\n",
        "tfds.disable_progress_bar()"
      ]
    },
    {
      "cell_type": "code",
      "execution_count": null,
      "metadata": {
        "id": "g9-1tEHeJdxl"
      },
      "outputs": [],
      "source": [
        "import matplotlib.pyplot as plt\n",
        "\n",
        "def plot_graphs(history, metric):\n",
        "  plt.plot(history.history[metric])\n",
        "  plt.plot(history.history['val_'+metric], '')\n",
        "  plt.xlabel(\"Epochs\")\n",
        "  plt.ylabel(metric)\n",
        "  plt.legend([metric, 'val_'+metric])"
      ]
    },
    {
      "cell_type": "code",
      "execution_count": null,
      "metadata": {
        "colab": {
          "base_uri": "https://localhost:8080/"
        },
        "id": "5cMfihdpJgwS",
        "outputId": "1e6c28da-616d-4438-d895-54b46212b5b3"
      },
      "outputs": [
        {
          "name": "stdout",
          "output_type": "stream",
          "text": [
            "Downloading and preparing dataset 80.23 MiB (download: 80.23 MiB, generated: Unknown size, total: 80.23 MiB) to /root/tensorflow_datasets/imdb_reviews/plain_text/1.0.0...\n",
            "Dataset imdb_reviews downloaded and prepared to /root/tensorflow_datasets/imdb_reviews/plain_text/1.0.0. Subsequent calls will reuse this data.\n"
          ]
        },
        {
          "data": {
            "text/plain": [
              "(TensorSpec(shape=(), dtype=tf.string, name=None),\n",
              " TensorSpec(shape=(), dtype=tf.int64, name=None))"
            ]
          },
          "execution_count": 5,
          "metadata": {},
          "output_type": "execute_result"
        }
      ],
      "source": [
        "# Setup input pipeline\n",
        "dataset, info = tfds.load('imdb_reviews', with_info=True,\n",
        "                          as_supervised=True)\n",
        "train_dataset, test_dataset = dataset['train'], dataset['test']\n",
        "\n",
        "train_dataset.element_spec"
      ]
    },
    {
      "cell_type": "code",
      "execution_count": null,
      "metadata": {
        "colab": {
          "base_uri": "https://localhost:8080/"
        },
        "id": "fQtd1y5JKl4N",
        "outputId": "37e10cf5-735b-45df-e367-37a2693f6b34"
      },
      "outputs": [
        {
          "name": "stdout",
          "output_type": "stream",
          "text": [
            "text:  b\"This was an absolutely terrible movie. Don't be lured in by Christopher Walken or Michael Ironside. Both are great actors, but this must simply be their worst role in history. Even their great acting could not redeem this movie's ridiculous storyline. This movie is an early nineties US propaganda piece. The most pathetic scenes were those when the Columbian rebels were making their cases for revolutions. Maria Conchita Alonso appeared phony, and her pseudo-love affair with Walken was nothing but a pathetic emotional plug in a movie that was devoid of any real meaning. I am disappointed that there are movies like this, ruining actor's like Christopher Walken's good name. I could barely sit through it.\"\n",
            "label:  0\n"
          ]
        }
      ],
      "source": [
        "for example, label in train_dataset.take(1):\n",
        "  print('text: ', example.numpy())\n",
        "  print('label: ', label.numpy())"
      ]
    },
    {
      "cell_type": "code",
      "execution_count": null,
      "metadata": {
        "colab": {
          "base_uri": "https://localhost:8080/"
        },
        "id": "tf-DDIbRKncx",
        "outputId": "a569efb7-889b-4823-a51a-7c870fb8a0e5"
      },
      "outputs": [
        {
          "name": "stdout",
          "output_type": "stream",
          "text": [
            "texts:  [b\"I read nothing but good things about this movie and finally had a chance to watch it late last night and it was everything I expected it to be and more.This is the way a proper horror movie should be.I think the reason it was so scary was because it was so realistic. The spooky sounding score was perfect for setting a dark mood.I liked the dramatic opening scene and enjoyed how the rest of the movie played out.It was very easy to follow and understand unlike some movies which are way too complicated.The special effects were very good.I would love to see more horror movies like this one.This is easily one of my favorite's.A realistic thunder and lightning storm would have set a nice atmosphere for this movie.Other then that it had all the elements a good horror movie needs.I highly recommend this movie to anyone who can appreciate a good scary movie that pulls no punches.I will be adding it to my collection.The DVD has some interesting special features.\"\n",
            " b\"<br /><br />Get your brewskies out and enjoy this flawed action flick. Speakman's considerable kempo skill (nice spin kicks, decent with the sticks - poor couch!) is the only redeeming quality of a movie that just cries bad acting. The plot isn't half bad; just executed pretty poorly. But if you're seeing this movie for anything other than martial arts, you're missing the boat entirely. And for a movie that is supposed to take place in Koreatown, way way too few Korean actors (even extras).\"\n",
            " b'People tried to make me believe that the premise of this rubbishy supernatural horror/thriller was inspired by the actual last words spoken by an authentic serial killer (whose name escapes me at the moment). Whilst awaiting his execution in the electric chair, he claimed that his soul would return to life and continue to go on a never-ending murder spree. It\\'s not a highly original idea to revolve a horror film on, by the way. Other low-budget turkeys implemented the exact same basic premise, like \"House 3\", \"Shocker\" and \"Ghost in the Machine\". Anyway, \"The First Power\" (a.k.a \"Pentagram\") isn\\'t a completely terrible effort, but the script overly reverts to clich\\xc3\\xa9s and lacks genuine thrills. The film starts off as an okay, albeit mundane serial killer flick in which obsessive cop-hero Lou Diamond Philips pursues a maniac who carves bloody pentagrams into the chests of his victims. He receives unexpected help from a spiritual medium, played by the gorgeous and underrated Tracy Griffith. She leads him to the killer but also begs not to execute him, as that would result in an even bigger catastrophe! Thanks to Tess\\' helpful hints, Detective Logan quickly captures the killer and celebrates his death penalty, but Patrick Channing made a pact with Satan Himself and returns to the rotten streets of California to do some more killing. \"The First Power\" gets pretty bad once the murderer reincarnates as a vengeful spirit. Instead of using his newly gained satanic powers to wipe out the entire world (that\\'s what I would do in his position), Channing simply prefers to play cat and mouse games with his nemesis the copper. He annoyingly calls him \"Buddy-Boy\" all the time and possesses the bodies of Logan\\'s friends and colleagues in order to trick him. Even though never really boring or poorly realized, it\\'s a very weak film to endure, mostly because you constantly get the feeling of d\\xc3\\xa9j\\xc3\\xa0-vu. Writer/director Robert Resnikoff shamelessly uses every dreadful clich\\xc3\\xa9 (the killer got sexually abused as a child) and even the players\\' lines can easily be predicted. As soon as Griffith explains she\\'s able to predict the future, you just know that, somewhere at some point in the film, she\\'s going to say the ridiculously overused line \"I tell people who to live their lives, but my own life is a mess\". Yawn. Lou Diamond Philips\\' performance is adequate enough, but it\\'s rather difficult to take that youthful rebel of \"La Bamba\" and \"Stand And Deliver\" serious as a tough copper. There also are decent supportive roles for Mykelti Williamson (\"Forrest Gump\"), Carmen Argenziano (\"When a Stranger Calls\") and B-movie horror legend David Gale (\"Re-Animator\") appears in a minuscule cameo at the very beginning of the film.']\n",
            "\n",
            "labels:  [1 0 0]\n"
          ]
        }
      ],
      "source": [
        "BUFFER_SIZE = 10000\n",
        "BATCH_SIZE = 64\n",
        "\n",
        "train_dataset = train_dataset.shuffle(BUFFER_SIZE).batch(BATCH_SIZE).prefetch(tf.data.AUTOTUNE)\n",
        "test_dataset = test_dataset.batch(BATCH_SIZE).prefetch(tf.data.AUTOTUNE)\n",
        "\n",
        "for example, label in train_dataset.take(1):\n",
        "  print('texts: ', example.numpy()[:3])\n",
        "  print()\n",
        "  print('labels: ', label.numpy()[:3])"
      ]
    },
    {
      "cell_type": "code",
      "execution_count": null,
      "metadata": {
        "id": "mbxV1CuKKrUr"
      },
      "outputs": [],
      "source": [
        "# Buat teks encoder\n",
        "VOCAB_SIZE = 1000\n",
        "encoder = tf.keras.layers.TextVectorization(\n",
        "    max_tokens=VOCAB_SIZE)\n",
        "encoder.adapt(train_dataset.map(lambda text, label: text))"
      ]
    },
    {
      "cell_type": "code",
      "execution_count": null,
      "metadata": {
        "colab": {
          "base_uri": "https://localhost:8080/"
        },
        "id": "0mRAnZGfK1R8",
        "outputId": "aa563153-a9ca-4518-d98a-7130e7c547c7"
      },
      "outputs": [
        {
          "data": {
            "text/plain": [
              "array(['', '[UNK]', 'the', 'and', 'a', 'of', 'to', 'is', 'in', 'it', 'i',\n",
              "       'this', 'that', 'br', 'was', 'as', 'for', 'with', 'movie', 'but'],\n",
              "      dtype='<U14')"
            ]
          },
          "execution_count": 9,
          "metadata": {},
          "output_type": "execute_result"
        }
      ],
      "source": [
        "vocab = np.array(encoder.get_vocabulary())\n",
        "vocab[:20]"
      ]
    },
    {
      "cell_type": "code",
      "execution_count": null,
      "metadata": {
        "colab": {
          "base_uri": "https://localhost:8080/"
        },
        "id": "OLGSPN8uK8Db",
        "outputId": "8da9309d-fcc4-4143-ee70-7f650a630a97"
      },
      "outputs": [
        {
          "data": {
            "text/plain": [
              "array([[ 10, 321, 158, ...,   0,   0,   0],\n",
              "       [ 13,  13,  76, ...,   0,   0,   0],\n",
              "       [ 83, 775,   6, ...,   0,   0,   0]])"
            ]
          },
          "execution_count": 10,
          "metadata": {},
          "output_type": "execute_result"
        }
      ],
      "source": [
        "encoded_example = encoder(example)[:3].numpy()\n",
        "encoded_example"
      ]
    },
    {
      "cell_type": "code",
      "execution_count": null,
      "metadata": {
        "colab": {
          "base_uri": "https://localhost:8080/"
        },
        "id": "zwJ4hwQCLCfW",
        "outputId": "749cf428-40d9-4fba-f3b0-77ca54f3074e"
      },
      "outputs": [
        {
          "name": "stdout",
          "output_type": "stream",
          "text": [
            "Original:  b\"I read nothing but good things about this movie and finally had a chance to watch it late last night and it was everything I expected it to be and more.This is the way a proper horror movie should be.I think the reason it was so scary was because it was so realistic. The spooky sounding score was perfect for setting a dark mood.I liked the dramatic opening scene and enjoyed how the rest of the movie played out.It was very easy to follow and understand unlike some movies which are way too complicated.The special effects were very good.I would love to see more horror movies like this one.This is easily one of my favorite's.A realistic thunder and lightning storm would have set a nice atmosphere for this movie.Other then that it had all the elements a good horror movie needs.I highly recommend this movie to anyone who can appreciate a good scary movie that pulls no punches.I will be adding it to my collection.The DVD has some interesting special features.\"\n",
            "Round-trip:  i read nothing but good things about this movie and finally had a chance to watch it late last night and it was everything i expected it to be and [UNK] is the way a [UNK] horror movie should [UNK] think the reason it was so scary was because it was so realistic the [UNK] [UNK] score was perfect for setting a dark [UNK] liked the dramatic opening scene and enjoyed how the rest of the movie played [UNK] was very easy to follow and understand unlike some movies which are way too [UNK] special effects were very [UNK] would love to see more horror movies like this [UNK] is easily one of my [UNK] realistic [UNK] and [UNK] [UNK] would have set a nice atmosphere for this [UNK] then that it had all the elements a good horror movie [UNK] highly recommend this movie to anyone who can [UNK] a good scary movie that [UNK] no [UNK] will be [UNK] it to my [UNK] dvd has some interesting special features                                                                                                                                                                                                                                                                                                                                                                                                                                                     \n",
            "\n",
            "Original:  b\"<br /><br />Get your brewskies out and enjoy this flawed action flick. Speakman's considerable kempo skill (nice spin kicks, decent with the sticks - poor couch!) is the only redeeming quality of a movie that just cries bad acting. The plot isn't half bad; just executed pretty poorly. But if you're seeing this movie for anything other than martial arts, you're missing the boat entirely. And for a movie that is supposed to take place in Koreatown, way way too few Korean actors (even extras).\"\n",
            "Round-trip:  br br get your [UNK] out and enjoy this [UNK] action flick [UNK] [UNK] [UNK] [UNK] nice [UNK] [UNK] decent with the [UNK] poor [UNK] is the only [UNK] quality of a movie that just [UNK] bad acting the plot isnt half bad just [UNK] pretty poorly but if youre seeing this movie for anything other than [UNK] [UNK] youre missing the [UNK] [UNK] and for a movie that is supposed to take place in [UNK] way way too few [UNK] actors even [UNK]                                                                                                                                                                                                                                                                                                                                                                                                                                                                                                                                            \n",
            "\n",
            "Original:  b'People tried to make me believe that the premise of this rubbishy supernatural horror/thriller was inspired by the actual last words spoken by an authentic serial killer (whose name escapes me at the moment). Whilst awaiting his execution in the electric chair, he claimed that his soul would return to life and continue to go on a never-ending murder spree. It\\'s not a highly original idea to revolve a horror film on, by the way. Other low-budget turkeys implemented the exact same basic premise, like \"House 3\", \"Shocker\" and \"Ghost in the Machine\". Anyway, \"The First Power\" (a.k.a \"Pentagram\") isn\\'t a completely terrible effort, but the script overly reverts to clich\\xc3\\xa9s and lacks genuine thrills. The film starts off as an okay, albeit mundane serial killer flick in which obsessive cop-hero Lou Diamond Philips pursues a maniac who carves bloody pentagrams into the chests of his victims. He receives unexpected help from a spiritual medium, played by the gorgeous and underrated Tracy Griffith. She leads him to the killer but also begs not to execute him, as that would result in an even bigger catastrophe! Thanks to Tess\\' helpful hints, Detective Logan quickly captures the killer and celebrates his death penalty, but Patrick Channing made a pact with Satan Himself and returns to the rotten streets of California to do some more killing. \"The First Power\" gets pretty bad once the murderer reincarnates as a vengeful spirit. Instead of using his newly gained satanic powers to wipe out the entire world (that\\'s what I would do in his position), Channing simply prefers to play cat and mouse games with his nemesis the copper. He annoyingly calls him \"Buddy-Boy\" all the time and possesses the bodies of Logan\\'s friends and colleagues in order to trick him. Even though never really boring or poorly realized, it\\'s a very weak film to endure, mostly because you constantly get the feeling of d\\xc3\\xa9j\\xc3\\xa0-vu. Writer/director Robert Resnikoff shamelessly uses every dreadful clich\\xc3\\xa9 (the killer got sexually abused as a child) and even the players\\' lines can easily be predicted. As soon as Griffith explains she\\'s able to predict the future, you just know that, somewhere at some point in the film, she\\'s going to say the ridiculously overused line \"I tell people who to live their lives, but my own life is a mess\". Yawn. Lou Diamond Philips\\' performance is adequate enough, but it\\'s rather difficult to take that youthful rebel of \"La Bamba\" and \"Stand And Deliver\" serious as a tough copper. There also are decent supportive roles for Mykelti Williamson (\"Forrest Gump\"), Carmen Argenziano (\"When a Stranger Calls\") and B-movie horror legend David Gale (\"Re-Animator\") appears in a minuscule cameo at the very beginning of the film.'\n",
            "Round-trip:  people tried to make me believe that the premise of this [UNK] [UNK] [UNK] was [UNK] by the actual last words [UNK] by an [UNK] [UNK] killer whose name [UNK] me at the moment [UNK] [UNK] his [UNK] in the [UNK] [UNK] he [UNK] that his [UNK] would return to life and [UNK] to go on a [UNK] murder [UNK] its not a highly original idea to [UNK] a horror film on by the way other [UNK] [UNK] [UNK] the [UNK] same [UNK] premise like house 3 [UNK] and [UNK] in the [UNK] anyway the first power [UNK] [UNK] isnt a completely terrible effort but the script [UNK] [UNK] to [UNK] and [UNK] [UNK] [UNK] the film starts off as an okay [UNK] [UNK] [UNK] killer flick in which [UNK] [UNK] [UNK] [UNK] [UNK] [UNK] a [UNK] who [UNK] [UNK] [UNK] into the [UNK] of his [UNK] he [UNK] [UNK] help from a [UNK] [UNK] played by the [UNK] and [UNK] [UNK] [UNK] she leads him to the killer but also [UNK] not to [UNK] him as that would result in an even [UNK] [UNK] [UNK] to [UNK] [UNK] [UNK] [UNK] [UNK] quickly [UNK] the killer and [UNK] his death [UNK] but [UNK] [UNK] made a [UNK] with [UNK] himself and [UNK] to the [UNK] [UNK] of [UNK] to do some more killing the first power gets pretty bad once the [UNK] [UNK] as a [UNK] [UNK] instead of using his [UNK] [UNK] [UNK] [UNK] to [UNK] out the entire world thats what i would do in his [UNK] [UNK] simply [UNK] to play [UNK] and [UNK] [UNK] with his [UNK] the [UNK] he [UNK] [UNK] him [UNK] all the time and [UNK] the [UNK] of [UNK] friends and [UNK] in order to [UNK] him even though never really boring or poorly [UNK] its a very weak film to [UNK] mostly because you [UNK] get the feeling of [UNK] [UNK] robert [UNK] [UNK] [UNK] every [UNK] [UNK] the killer got [UNK] [UNK] as a child and even the [UNK] lines can easily be [UNK] as soon as [UNK] [UNK] shes able to [UNK] the future you just know that [UNK] at some point in the film shes going to say the [UNK] [UNK] line i tell people who to live their lives but my own life is a mess [UNK] [UNK] [UNK] [UNK] performance is [UNK] enough but its rather difficult to take that [UNK] [UNK] of la [UNK] and stand and [UNK] serious as a [UNK] [UNK] there also are decent [UNK] roles for [UNK] [UNK] [UNK] [UNK] [UNK] [UNK] when a [UNK] [UNK] and [UNK] horror [UNK] david [UNK] [UNK] appears in a [UNK] [UNK] at the very beginning of the film                                                                                                                                                          \n",
            "\n"
          ]
        }
      ],
      "source": [
        "for n in range(3):\n",
        "  print(\"Original: \", example[n].numpy())\n",
        "  print(\"Round-trip: \", \" \".join(vocab[encoded_example[n]]))\n",
        "  print()"
      ]
    },
    {
      "cell_type": "code",
      "execution_count": null,
      "metadata": {
        "id": "2O2UtBwwLGNZ"
      },
      "outputs": [],
      "source": [
        "# Buat model\n",
        "model = tf.keras.Sequential([\n",
        "    encoder,\n",
        "    tf.keras.layers.Embedding(\n",
        "        input_dim=len(encoder.get_vocabulary()),\n",
        "        output_dim=64,\n",
        "        # Use masking to handle the variable sequence lengths\n",
        "        mask_zero=True),\n",
        "    tf.keras.layers.Bidirectional(tf.keras.layers.LSTM(64)),\n",
        "    tf.keras.layers.Dense(64, activation='relu'),\n",
        "    tf.keras.layers.Dense(1)\n",
        "])"
      ]
    },
    {
      "cell_type": "code",
      "execution_count": null,
      "metadata": {
        "colab": {
          "base_uri": "https://localhost:8080/"
        },
        "id": "Ofur_kGQLNDX",
        "outputId": "6a24c4da-d1f8-43e4-a8e4-5707448d6be8"
      },
      "outputs": [
        {
          "name": "stdout",
          "output_type": "stream",
          "text": [
            "[False, True, True, True, True]\n"
          ]
        }
      ],
      "source": [
        "print([layer.supports_masking for layer in model.layers])"
      ]
    },
    {
      "cell_type": "code",
      "execution_count": null,
      "metadata": {
        "colab": {
          "base_uri": "https://localhost:8080/"
        },
        "id": "jXDMd1WjLSqs",
        "outputId": "6c3a41d7-a0c9-475e-e947-258b6d7c2f53"
      },
      "outputs": [
        {
          "name": "stdout",
          "output_type": "stream",
          "text": [
            "1/1 [==============================] - 3s 3s/step\n",
            "[-0.00271291]\n"
          ]
        }
      ],
      "source": [
        "# predict on a sample text without padding.\n",
        "\n",
        "sample_text = ('The movie was cool. The animation and the graphics '\n",
        "               'were out of this world. I would recommend this movie.')\n",
        "predictions = model.predict(np.array([sample_text]))\n",
        "print(predictions[0])"
      ]
    },
    {
      "cell_type": "code",
      "execution_count": null,
      "metadata": {
        "colab": {
          "base_uri": "https://localhost:8080/"
        },
        "id": "Ct_yQo2-LXQO",
        "outputId": "3ee03963-5015-42bf-9428-4c02f54180e2"
      },
      "outputs": [
        {
          "name": "stdout",
          "output_type": "stream",
          "text": [
            "1/1 [==============================] - 0s 368ms/step\n",
            "[-0.00271291]\n"
          ]
        }
      ],
      "source": [
        "# predict on a sample text with padding\n",
        "\n",
        "padding = \"the \" * 2000\n",
        "predictions = model.predict(np.array([sample_text, padding]))\n",
        "print(predictions[0])"
      ]
    },
    {
      "cell_type": "code",
      "execution_count": null,
      "metadata": {
        "id": "Aa0u2xpzLZ7J"
      },
      "outputs": [],
      "source": [
        "model.compile(loss=tf.keras.losses.BinaryCrossentropy(from_logits=True),\n",
        "              optimizer=tf.keras.optimizers.Adam(1e-4),\n",
        "              metrics=['accuracy'])"
      ]
    },
    {
      "cell_type": "code",
      "execution_count": null,
      "metadata": {
        "colab": {
          "base_uri": "https://localhost:8080/"
        },
        "id": "Kll-Q8OLLcUK",
        "outputId": "4ca4e7e9-77af-4579-f840-71601c7fad74"
      },
      "outputs": [
        {
          "name": "stdout",
          "output_type": "stream",
          "text": [
            "Epoch 1/10\n",
            "391/391 [==============================] - 749s 2s/step - loss: 0.6492 - accuracy: 0.5537 - val_loss: 0.4866 - val_accuracy: 0.7599\n",
            "Epoch 2/10\n",
            "391/391 [==============================] - 684s 2s/step - loss: 0.4023 - accuracy: 0.8190 - val_loss: 0.3695 - val_accuracy: 0.8417\n",
            "Epoch 3/10\n",
            "391/391 [==============================] - 694s 2s/step - loss: 0.3412 - accuracy: 0.8521 - val_loss: 0.3442 - val_accuracy: 0.8505\n",
            "Epoch 4/10\n",
            "391/391 [==============================] - 702s 2s/step - loss: 0.3231 - accuracy: 0.8596 - val_loss: 0.3354 - val_accuracy: 0.8484\n",
            "Epoch 5/10\n",
            "391/391 [==============================] - 707s 2s/step - loss: 0.3139 - accuracy: 0.8654 - val_loss: 0.3301 - val_accuracy: 0.8484\n",
            "Epoch 6/10\n",
            "391/391 [==============================] - 703s 2s/step - loss: 0.3105 - accuracy: 0.8653 - val_loss: 0.3228 - val_accuracy: 0.8510\n",
            "Epoch 7/10\n",
            "391/391 [==============================] - 691s 2s/step - loss: 0.3030 - accuracy: 0.8696 - val_loss: 0.3240 - val_accuracy: 0.8620\n",
            "Epoch 8/10\n",
            "391/391 [==============================] - 707s 2s/step - loss: 0.3049 - accuracy: 0.8678 - val_loss: 0.3179 - val_accuracy: 0.8521\n",
            "Epoch 9/10\n",
            "391/391 [==============================] - 692s 2s/step - loss: 0.3019 - accuracy: 0.8708 - val_loss: 0.3227 - val_accuracy: 0.8490\n",
            "Epoch 10/10\n",
            "391/391 [==============================] - 691s 2s/step - loss: 0.2984 - accuracy: 0.8720 - val_loss: 0.3208 - val_accuracy: 0.8604\n"
          ]
        }
      ],
      "source": [
        "# Train model\n",
        "history = model.fit(train_dataset, epochs=10,\n",
        "                    validation_data=test_dataset,\n",
        "                    validation_steps=30)"
      ]
    },
    {
      "cell_type": "code",
      "execution_count": null,
      "metadata": {
        "colab": {
          "base_uri": "https://localhost:8080/"
        },
        "id": "xSHIIyheLd6N",
        "outputId": "780e18c2-6013-4dec-8640-e5485575c3e2"
      },
      "outputs": [
        {
          "name": "stdout",
          "output_type": "stream",
          "text": [
            "391/391 [==============================] - 165s 423ms/step - loss: 0.3172 - accuracy: 0.8627\n",
            "Test Loss:  0.31720274686813354\n",
            "Test Accuracy :  0.8627200126647949\n"
          ]
        }
      ],
      "source": [
        "test_loss, test_acc = model.evaluate(test_dataset)\n",
        "\n",
        "print('Test Loss: ', test_loss)\n",
        "print('Test Accuracy : ', test_acc)"
      ]
    },
    {
      "cell_type": "code",
      "execution_count": null,
      "metadata": {
        "colab": {
          "base_uri": "https://localhost:8080/",
          "height": 639
        },
        "id": "9yQtzVhuLxKe",
        "outputId": "c94e8faa-6099-4f73-eca9-7fd9ea618225"
      },
      "outputs": [
        {
          "data": {
            "text/plain": [
              "(0.0, 0.6667037352919578)"
            ]
          },
          "execution_count": 20,
          "metadata": {},
          "output_type": "execute_result"
        },
        {
          "data": {
            "image/png": "[encoded data removed]",
            "text/plain": [
              "<Figure size 1600x800 with 2 Axes>"
            ]
          },
          "metadata": {},
          "output_type": "display_data"
        }
      ],
      "source": [
        "plt.figure(figsize=(16, 8))\n",
        "plt.subplot(1, 2, 1)\n",
        "plot_graphs(history, 'accuracy')\n",
        "plt.ylim(None, 1)\n",
        "plt.subplot(1, 2, 2)\n",
        "plot_graphs(history, 'loss')\n",
        "plt.ylim(0, None)"
      ]
    },
    {
      "cell_type": "code",
      "execution_count": null,
      "metadata": {
        "colab": {
          "base_uri": "https://localhost:8080/"
        },
        "id": "mKVbPEyoL0s3",
        "outputId": "9b10d36b-bf05-4156-9cd2-85ce9ce0be3e"
      },
      "outputs": [
        {
          "name": "stdout",
          "output_type": "stream",
          "text": [
            "1/1 [==============================] - 3s 3s/step\n"
          ]
        }
      ],
      "source": [
        "sample_text = ('The movie was cool. The animation and the graphics'\n",
        "                'were out of this world. I would recommend this movie.')\n",
        "predictions = model.predict(np.array([sample_text]))"
      ]
    },
    {
      "cell_type": "code",
      "execution_count": null,
      "metadata": {
        "id": "As57i1ZuL7SM"
      },
      "outputs": [],
      "source": [
        "# Stack two or more LSTM layers\n",
        "model = tf.keras.Sequential([\n",
        "    encoder,\n",
        "    tf.keras.layers.Embedding(len(encoder.get_vocabulary()), 64, mask_zero=True),\n",
        "    tf.keras.layers.Bidirectional(tf.keras.layers.LSTM(64, return_sequences=True)),\n",
        "    tf.keras.layers.Bidirectional(tf.keras.layers.LSTM(32)),\n",
        "    tf.keras.layers.Dense(64, activation='relu'),\n",
        "    tf.keras.layers.Dropout(0.5),\n",
        "    tf.keras.layers.Dense(1)\n",
        "])"
      ]
    },
    {
      "cell_type": "code",
      "execution_count": null,
      "metadata": {
        "id": "5EOMuntwMChr"
      },
      "outputs": [],
      "source": [
        "model.compile(loss=tf.keras.losses.BinaryCrossentropy(from_logits=True),\n",
        "              optimizer = tf.keras.optimizers.Adam(1e-4),\n",
        "              metrics=['accuracy'])"
      ]
    },
    {
      "cell_type": "code",
      "execution_count": null,
      "metadata": {
        "colab": {
          "base_uri": "https://localhost:8080/"
        },
        "id": "-eHU_bINMEn7",
        "outputId": "88bddfbe-38c3-4565-cb3a-28641788024e"
      },
      "outputs": [
        {
          "name": "stdout",
          "output_type": "stream",
          "text": [
            "Epoch 1/10\n",
            "391/391 [==============================] - 1467s 4s/step - loss: 0.6229 - accuracy: 0.5912 - val_loss: 0.4079 - val_accuracy: 0.8297\n",
            "Epoch 2/10\n",
            "391/391 [==============================] - 1406s 4s/step - loss: 0.3805 - accuracy: 0.8332 - val_loss: 0.3467 - val_accuracy: 0.8422\n",
            "Epoch 3/10\n",
            "391/391 [==============================] - 1409s 4s/step - loss: 0.3379 - accuracy: 0.8560 - val_loss: 0.3312 - val_accuracy: 0.8568\n",
            "Epoch 4/10\n",
            "391/391 [==============================] - 1422s 4s/step - loss: 0.3221 - accuracy: 0.8625 - val_loss: 0.3288 - val_accuracy: 0.8568\n",
            "Epoch 5/10\n",
            "391/391 [==============================] - 1426s 4s/step - loss: 0.3118 - accuracy: 0.8690 - val_loss: 0.3253 - val_accuracy: 0.8578\n",
            "Epoch 6/10\n",
            "391/391 [==============================] - 1410s 4s/step - loss: 0.3080 - accuracy: 0.8692 - val_loss: 0.3242 - val_accuracy: 0.8594\n",
            "Epoch 7/10\n",
            "391/391 [==============================] - 1356s 3s/step - loss: 0.3052 - accuracy: 0.8700 - val_loss: 0.3210 - val_accuracy: 0.8594\n",
            "Epoch 8/10\n",
            "391/391 [==============================] - 1392s 4s/step - loss: 0.3022 - accuracy: 0.8718 - val_loss: 0.3245 - val_accuracy: 0.8458\n",
            "Epoch 9/10\n",
            "391/391 [==============================] - 1416s 4s/step - loss: 0.3004 - accuracy: 0.8716 - val_loss: 0.3201 - val_accuracy: 0.8552\n",
            "Epoch 10/10\n",
            "391/391 [==============================] - 1387s 4s/step - loss: 0.2971 - accuracy: 0.8720 - val_loss: 0.3207 - val_accuracy: 0.8641\n"
          ]
        }
      ],
      "source": [
        "history = model.fit(train_dataset, epochs=10,\n",
        "                    validation_data=test_dataset,\n",
        "                    validation_steps=30)"
      ]
    },
    {
      "cell_type": "code",
      "execution_count": null,
      "metadata": {
        "colab": {
          "base_uri": "https://localhost:8080/"
        },
        "id": "6CRjVXejMIs5",
        "outputId": "f579b8e6-280a-4597-be22-2ff70b0fc557"
      },
      "outputs": [
        {
          "name": "stdout",
          "output_type": "stream",
          "text": [
            "391/391 [==============================] - 303s 775ms/step - loss: 0.3179 - accuracy: 0.8628\n",
            "Test Loss: 0.3178909718990326\n",
            "Test Accuracy: 0.8628000020980835\n"
          ]
        }
      ],
      "source": [
        "test_loss, test_acc = model.evaluate(test_dataset)\n",
        "\n",
        "print('Test Loss:', test_loss)\n",
        "print('Test Accuracy:', test_acc)"
      ]
    },
    {
      "cell_type": "code",
      "execution_count": null,
      "metadata": {
        "colab": {
          "base_uri": "https://localhost:8080/"
        },
        "id": "9RE4fHwzMJcs",
        "outputId": "38838d38-dba5-4bf6-8374-c29045f81c90"
      },
      "outputs": [
        {
          "name": "stdout",
          "output_type": "stream",
          "text": [
            "1/1 [==============================] - 10s 10s/step\n",
            "[[-1.6083773]]\n"
          ]
        }
      ],
      "source": [
        "# predict on a sample text without padding\n",
        "\n",
        "sample_text = ('The movie was not good. The animation and the graphics'\n",
        "                'were terrible. I would not recommend this movie.')\n",
        "\n",
        "predictions = model.predict(np.array([sample_text]))\n",
        "print(predictions)"
      ]
    },
    {
      "cell_type": "code",
      "execution_count": null,
      "metadata": {
        "colab": {
          "base_uri": "https://localhost:8080/",
          "height": 478
        },
        "id": "iltcRVklMNFR",
        "outputId": "d1075f6d-22ef-43c5-d33a-1acfacca2bf0"
      },
      "outputs": [
        {
          "data": {
            "image/png": "[encoded data removed]",
            "text/plain": [
              "<Figure size 1600x600 with 2 Axes>"
            ]
          },
          "metadata": {},
          "output_type": "display_data"
        }
      ],
      "source": [
        "plt.figure(figsize=(16,6))\n",
        "plt.subplot(1,2,1)\n",
        "plot_graphs(history, 'accuracy')\n",
        "plt.subplot(1,2,2)\n",
        "plot_graphs(history, 'loss')"
      ]
    },
    {
      "cell_type": "markdown",
      "metadata": {
        "id": "xY51qz8Ro6el"
      },
      "source": [
        "**Praktikum 2<br>**\n",
        "Generator Teks dengan RNN"
      ]
    },
    {
      "cell_type": "code",
      "execution_count": null,
      "metadata": {
        "id": "raAlWOtTpNUV"
      },
      "outputs": [],
      "source": [
        "# Import tensorflow\n",
        "import tensorflow as tf\n",
        "import numpy as np\n",
        "import os\n",
        "import time"
      ]
    },
    {
      "cell_type": "code",
      "execution_count": null,
      "metadata": {
        "colab": {
          "base_uri": "https://localhost:8080/"
        },
        "id": "9_0RBNI9pZw2",
        "outputId": "01ad8699-2215-4c12-d036-ee93ca5498e0"
      },
      "outputs": [
        {
          "name": "stdout",
          "output_type": "stream",
          "text": [
            "Downloading data from https://storage.googleapis.com/download.tensorflow.org/data/shakespeare.txt\n",
            "1115394/1115394 [==============================] - 0s 0us/step\n"
          ]
        }
      ],
      "source": [
        "# Download dataset shakespeare\n",
        "path_to_file = tf.keras.utils.get_file('shakespeare.txt', 'https://storage.googleapis.com/download.tensorflow.org/data/shakespeare.txt')"
      ]
    },
    {
      "cell_type": "code",
      "execution_count": null,
      "metadata": {
        "colab": {
          "base_uri": "https://localhost:8080/"
        },
        "id": "n7T6MH6zpmA2",
        "outputId": "b163ea0e-5a7b-4e26-f9b6-4f7e79f0084e"
      },
      "outputs": [
        {
          "name": "stdout",
          "output_type": "stream",
          "text": [
            "Length of text: 1115394 characters\n"
          ]
        }
      ],
      "source": [
        "# Load data\n",
        "# Read, then decode for py2 compat.\n",
        "text = open(path_to_file, 'rb').read().decode(encoding='utf-8')\n",
        "# length of text is the number of characters in it\n",
        "print(f'Length of text: {len(text)} characters')"
      ]
    },
    {
      "cell_type": "code",
      "execution_count": null,
      "metadata": {
        "colab": {
          "base_uri": "https://localhost:8080/"
        },
        "id": "h7ZfA6RYptlm",
        "outputId": "dcf0f0ab-0b96-40f2-81ca-c53845ed05c0"
      },
      "outputs": [
        {
          "name": "stdout",
          "output_type": "stream",
          "text": [
            "First Citizen:\n",
            "Before we proceed any further, hear me speak.\n",
            "\n",
            "All:\n",
            "Speak, speak.\n",
            "\n",
            "First Citizen:\n",
            "You are all resolved rather to die than to famish?\n",
            "\n",
            "All:\n",
            "Resolved. resolved.\n",
            "\n",
            "First Citizen:\n",
            "First, you know Caius Marcius is chief enemy to the people.\n",
            "\n"
          ]
        }
      ],
      "source": [
        "# Take a look at the first 250 characters in text\n",
        "print(text[:250])"
      ]
    },
    {
      "cell_type": "code",
      "execution_count": null,
      "metadata": {
        "colab": {
          "base_uri": "https://localhost:8080/"
        },
        "id": "89GkZKLMpw7O",
        "outputId": "1adc4078-77d7-4ce5-b888-15ced4a8ee44"
      },
      "outputs": [
        {
          "name": "stdout",
          "output_type": "stream",
          "text": [
            "65 unique characters\n"
          ]
        }
      ],
      "source": [
        "# The unique characters in the file\n",
        "vocab = sorted(set(text))\n",
        "print(f'{len(vocab)} unique characters')"
      ]
    },
    {
      "cell_type": "markdown",
      "metadata": {
        "id": "FuwthFr9p1vQ"
      },
      "source": [
        "**Olah Teks<br>**\n",
        "Vectorize Teks"
      ]
    },
    {
      "cell_type": "code",
      "execution_count": null,
      "metadata": {
        "colab": {
          "base_uri": "https://localhost:8080/"
        },
        "id": "YdPDBYILpyfL",
        "outputId": "68c80cb9-e4c6-413c-ccce-93e966bc8585"
      },
      "outputs": [
        {
          "data": {
            "text/plain": [
              "<tf.RaggedTensor [[b'a', b'b', b'c', b'd', b'e', b'f', b'g'], [b'x', b'y', b'z']]>"
            ]
          },
          "execution_count": 7,
          "metadata": {},
          "output_type": "execute_result"
        }
      ],
      "source": [
        "example_texts = ['abcdefg', 'xyz']\n",
        "chars = tf.strings.unicode_split(example_texts, input_encoding='UTF-8')\n",
        "chars"
      ]
    },
    {
      "cell_type": "code",
      "execution_count": null,
      "metadata": {
        "id": "LPfmgBscqEut"
      },
      "outputs": [],
      "source": [
        "ids_from_chars = tf.keras.layers.StringLookup(\n",
        "    vocabulary = list(vocab), mask_token=None\n",
        ")"
      ]
    },
    {
      "cell_type": "code",
      "execution_count": null,
      "metadata": {
        "colab": {
          "base_uri": "https://localhost:8080/"
        },
        "id": "0g5z3_PMqJEg",
        "outputId": "916d17c3-c8f1-447d-f249-ae14005a7180"
      },
      "outputs": [
        {
          "data": {
            "text/plain": [
              "<tf.RaggedTensor [[40, 41, 42, 43, 44, 45, 46], [63, 64, 65]]>"
            ]
          },
          "execution_count": 9,
          "metadata": {},
          "output_type": "execute_result"
        }
      ],
      "source": [
        "ids = ids_from_chars(chars)\n",
        "ids"
      ]
    },
    {
      "cell_type": "code",
      "execution_count": null,
      "metadata": {
        "id": "qK1Aw44sqMkl"
      },
      "outputs": [],
      "source": [
        "chars_from_ids = tf.keras.layers.StringLookup(\n",
        "    vocabulary=ids_from_chars.get_vocabulary(), invert=True, mask_token=None)"
      ]
    },
    {
      "cell_type": "code",
      "execution_count": null,
      "metadata": {
        "colab": {
          "base_uri": "https://localhost:8080/"
        },
        "id": "JRXwG9Q_qPBZ",
        "outputId": "7f8d25be-30ad-401c-d30c-a045c2a37ef2"
      },
      "outputs": [
        {
          "data": {
            "text/plain": [
              "<tf.RaggedTensor [[b'a', b'b', b'c', b'd', b'e', b'f', b'g'], [b'x', b'y', b'z']]>"
            ]
          },
          "execution_count": 11,
          "metadata": {},
          "output_type": "execute_result"
        }
      ],
      "source": [
        "chars = chars_from_ids(ids)\n",
        "chars"
      ]
    },
    {
      "cell_type": "code",
      "execution_count": null,
      "metadata": {
        "colab": {
          "base_uri": "https://localhost:8080/"
        },
        "id": "bcG-8b2eqTic",
        "outputId": "d12dd51a-ab2f-4d62-c356-3ca5451ed14d"
      },
      "outputs": [
        {
          "data": {
            "text/plain": [
              "array([b'abcdefg', b'xyz'], dtype=object)"
            ]
          },
          "execution_count": 12,
          "metadata": {},
          "output_type": "execute_result"
        }
      ],
      "source": [
        "tf.strings.reduce_join(chars, axis=-1).numpy()"
      ]
    },
    {
      "cell_type": "code",
      "execution_count": null,
      "metadata": {
        "id": "0K1-9Y3iqVzi"
      },
      "outputs": [],
      "source": [
        "def text_from_ids(ids):\n",
        "  return tf.strings.reduce_join(chars_from_ids(ids), axis=-1)"
      ]
    },
    {
      "cell_type": "markdown",
      "metadata": {
        "id": "lwnIP3-mqaFX"
      },
      "source": [
        "**Prediksi**"
      ]
    },
    {
      "cell_type": "code",
      "execution_count": null,
      "metadata": {
        "colab": {
          "base_uri": "https://localhost:8080/"
        },
        "id": "0xWmOp7Bqb46",
        "outputId": "006ca871-4904-4105-e3f3-fa31c0d59e28"
      },
      "outputs": [
        {
          "data": {
            "text/plain": [
              "<tf.Tensor: shape=(1115394,), dtype=int64, numpy=array([19, 48, 57, ..., 46,  9,  1])>"
            ]
          },
          "execution_count": 14,
          "metadata": {},
          "output_type": "execute_result"
        }
      ],
      "source": [
        "# Membuat training set dan target\n",
        "all_ids = ids_from_chars(tf.strings.unicode_split(text, 'UTF-8'))\n",
        "all_ids"
      ]
    },
    {
      "cell_type": "code",
      "execution_count": null,
      "metadata": {
        "id": "NNkeZ6klqim0"
      },
      "outputs": [],
      "source": [
        "ids_dataset = tf.data.Dataset.from_tensor_slices(all_ids)"
      ]
    },
    {
      "cell_type": "code",
      "execution_count": null,
      "metadata": {
        "colab": {
          "base_uri": "https://localhost:8080/"
        },
        "id": "9-iC5jQlqmUL",
        "outputId": "dfdd2653-bf40-4edb-af62-b2a1633e5b16"
      },
      "outputs": [
        {
          "name": "stdout",
          "output_type": "stream",
          "text": [
            "F\n",
            "i\n",
            "r\n",
            "s\n",
            "t\n",
            " \n",
            "C\n",
            "i\n",
            "t\n",
            "i\n"
          ]
        }
      ],
      "source": [
        "for ids in ids_dataset.take(10):\n",
        "  print(chars_from_ids(ids).numpy().decode('utf-8'))"
      ]
    },
    {
      "cell_type": "code",
      "execution_count": null,
      "metadata": {
        "id": "3I_tWbAzqoii"
      },
      "outputs": [],
      "source": [
        "seq_length = 100"
      ]
    },
    {
      "cell_type": "code",
      "execution_count": null,
      "metadata": {
        "colab": {
          "base_uri": "https://localhost:8080/"
        },
        "id": "uPyVMAu4qq5k",
        "outputId": "9b37dc4c-c7a3-4d7d-cdf1-c90212f8246a"
      },
      "outputs": [
        {
          "name": "stdout",
          "output_type": "stream",
          "text": [
            "tf.Tensor(\n",
            "[b'F' b'i' b'r' b's' b't' b' ' b'C' b'i' b't' b'i' b'z' b'e' b'n' b':'\n",
            " b'\\n' b'B' b'e' b'f' b'o' b'r' b'e' b' ' b'w' b'e' b' ' b'p' b'r' b'o'\n",
            " b'c' b'e' b'e' b'd' b' ' b'a' b'n' b'y' b' ' b'f' b'u' b'r' b't' b'h'\n",
            " b'e' b'r' b',' b' ' b'h' b'e' b'a' b'r' b' ' b'm' b'e' b' ' b's' b'p'\n",
            " b'e' b'a' b'k' b'.' b'\\n' b'\\n' b'A' b'l' b'l' b':' b'\\n' b'S' b'p' b'e'\n",
            " b'a' b'k' b',' b' ' b's' b'p' b'e' b'a' b'k' b'.' b'\\n' b'\\n' b'F' b'i'\n",
            " b'r' b's' b't' b' ' b'C' b'i' b't' b'i' b'z' b'e' b'n' b':' b'\\n' b'Y'\n",
            " b'o' b'u' b' '], shape=(101,), dtype=string)\n"
          ]
        }
      ],
      "source": [
        "sequences = ids_dataset.batch(seq_length+1, drop_remainder=True)\n",
        "\n",
        "for seq in sequences.take(1):\n",
        "  print(chars_from_ids(seq))"
      ]
    },
    {
      "cell_type": "code",
      "execution_count": null,
      "metadata": {
        "colab": {
          "base_uri": "https://localhost:8080/"
        },
        "id": "ynGWBhF3qviI",
        "outputId": "7f88fb7f-fc5f-4aa0-f207-873887c48dab"
      },
      "outputs": [
        {
          "name": "stdout",
          "output_type": "stream",
          "text": [
            "b'First Citizen:\\nBefore we proceed any further, hear me speak.\\n\\nAll:\\nSpeak, speak.\\n\\nFirst Citizen:\\nYou '\n",
            "b'are all resolved rather to die than to famish?\\n\\nAll:\\nResolved. resolved.\\n\\nFirst Citizen:\\nFirst, you k'\n",
            "b\"now Caius Marcius is chief enemy to the people.\\n\\nAll:\\nWe know't, we know't.\\n\\nFirst Citizen:\\nLet us ki\"\n",
            "b\"ll him, and we'll have corn at our own price.\\nIs't a verdict?\\n\\nAll:\\nNo more talking on't; let it be d\"\n",
            "b'one: away, away!\\n\\nSecond Citizen:\\nOne word, good citizens.\\n\\nFirst Citizen:\\nWe are accounted poor citi'\n"
          ]
        }
      ],
      "source": [
        "for seq in sequences.take(5):\n",
        "  print(text_from_ids(seq).numpy())"
      ]
    },
    {
      "cell_type": "code",
      "execution_count": null,
      "metadata": {
        "id": "8NqkSeUoq0PO"
      },
      "outputs": [],
      "source": [
        "def split_input_target(sequence):\n",
        "  input_text = sequence[:-1]\n",
        "  target_text = sequence[1:]\n",
        "  return input_text, target_text"
      ]
    },
    {
      "cell_type": "code",
      "execution_count": null,
      "metadata": {
        "colab": {
          "base_uri": "https://localhost:8080/"
        },
        "id": "v5eok4u2q20A",
        "outputId": "d0dd0234-41c7-4531-9a2f-7cb6a3c82ff7"
      },
      "outputs": [
        {
          "data": {
            "text/plain": [
              "(['T', 'e', 'n', 's', 'o', 'r', 'f', 'l', 'o'],\n",
              " ['e', 'n', 's', 'o', 'r', 'f', 'l', 'o', 'w'])"
            ]
          },
          "execution_count": 21,
          "metadata": {},
          "output_type": "execute_result"
        }
      ],
      "source": [
        "split_input_target(list(\"Tensorflow\"))"
      ]
    },
    {
      "cell_type": "code",
      "execution_count": null,
      "metadata": {
        "id": "dbF-ZsM0rMH1"
      },
      "outputs": [],
      "source": [
        "dataset = sequences.map(split_input_target)"
      ]
    },
    {
      "cell_type": "code",
      "execution_count": null,
      "metadata": {
        "colab": {
          "base_uri": "https://localhost:8080/"
        },
        "id": "MURS53LSrOHm",
        "outputId": "d525befb-6667-45e3-eed6-cfafe9004dcc"
      },
      "outputs": [
        {
          "name": "stdout",
          "output_type": "stream",
          "text": [
            "Input : b'First Citizen:\\nBefore we proceed any further, hear me speak.\\n\\nAll:\\nSpeak, speak.\\n\\nFirst Citizen:\\nYou'\n",
            "Target: b'irst Citizen:\\nBefore we proceed any further, hear me speak.\\n\\nAll:\\nSpeak, speak.\\n\\nFirst Citizen:\\nYou '\n"
          ]
        }
      ],
      "source": [
        "for input_example, target_example in dataset.take(1):\n",
        "  print(\"Input :\", text_from_ids(input_example).numpy())\n",
        "  print(\"Target:\", text_from_ids(target_example).numpy())"
      ]
    },
    {
      "cell_type": "code",
      "execution_count": null,
      "metadata": {
        "colab": {
          "base_uri": "https://localhost:8080/"
        },
        "id": "ngJMtfIHrPoO",
        "outputId": "1bcf9da6-2374-4339-9cd5-ec656500388a"
      },
      "outputs": [
        {
          "data": {
            "text/plain": [
              "<_PrefetchDataset element_spec=(TensorSpec(shape=(64, 100), dtype=tf.int64, name=None), TensorSpec(shape=(64, 100), dtype=tf.int64, name=None))>"
            ]
          },
          "execution_count": 24,
          "metadata": {},
          "output_type": "execute_result"
        }
      ],
      "source": [
        "# Membuat batch training\n",
        "# Batch size\n",
        "BATCH_SIZE = 64\n",
        "\n",
        "# Buffer size to shuffle the dataset\n",
        "# (TF data is designed to work with possibly infinite sequences,\n",
        "# so it doesn't attempt to shuffle the entire sequence in memory. Instead,\n",
        "# it maintains a buffer in which it shuffles elements).\n",
        "BUFFER_SIZE = 10000\n",
        "\n",
        "dataset = (\n",
        "    dataset\n",
        "    .shuffle(BUFFER_SIZE)\n",
        "    .batch(BATCH_SIZE, drop_remainder=True)\n",
        "    .prefetch(tf.data.experimental.AUTOTUNE))\n",
        "\n",
        "dataset"
      ]
    },
    {
      "cell_type": "markdown",
      "metadata": {
        "id": "A1WFR7J6rj2H"
      },
      "source": [
        "**Buat Model**"
      ]
    },
    {
      "cell_type": "code",
      "execution_count": null,
      "metadata": {
        "id": "VJdpm8zXrUZg"
      },
      "outputs": [],
      "source": [
        "# Length of the vocabulary in StringLookup Layer\n",
        "vocab_size = len(ids_from_chars.get_vocabulary())\n",
        "\n",
        "# The embedding dimension\n",
        "embedding_dim = 256\n",
        "\n",
        "# Number of RNN units\n",
        "rnn_units = 1024"
      ]
    },
    {
      "cell_type": "code",
      "execution_count": null,
      "metadata": {
        "id": "8NivkpI1rWcu"
      },
      "outputs": [],
      "source": [
        "class MyModel(tf.keras.Model):\n",
        "  def __init__(self, vocab_size, embedding_dim, rnn_units):\n",
        "    super().__init__(self)\n",
        "    self.embedding = tf.keras.layers.Embedding(vocab_size, embedding_dim)\n",
        "    self.gru = tf.keras.layers.GRU(rnn_units,\n",
        "                                   return_sequences=True,\n",
        "                                   return_state=True)\n",
        "    self.dense = tf.keras.layers.Dense(vocab_size)\n",
        "\n",
        "  def call(self, inputs, states=None, return_state=False, training=False):\n",
        "    x = inputs\n",
        "    x = self.embedding(x, training=training)\n",
        "    if states is None:\n",
        "      states = self.gru.get_initial_state(x)\n",
        "    x, states = self.gru(x, initial_state=states, training=training)\n",
        "    x = self.dense(x, training=training)\n",
        "\n",
        "    if return_state:\n",
        "      return x, states\n",
        "    else:\n",
        "      return x"
      ]
    },
    {
      "cell_type": "code",
      "execution_count": null,
      "metadata": {
        "id": "dqXGlw1Brdoh"
      },
      "outputs": [],
      "source": [
        "model = MyModel(\n",
        "    vocab_size=vocab_size,\n",
        "    embedding_dim=embedding_dim,\n",
        "    rnn_units=rnn_units)"
      ]
    },
    {
      "cell_type": "markdown",
      "metadata": {
        "id": "21KlE3Ggre28"
      },
      "source": [
        "**Uji Model**"
      ]
    },
    {
      "cell_type": "code",
      "execution_count": null,
      "metadata": {
        "colab": {
          "base_uri": "https://localhost:8080/"
        },
        "id": "odc0hh6nrg_I",
        "outputId": "1f1f413d-cfea-4ed3-e3d7-ebc57b6138f0"
      },
      "outputs": [
        {
          "name": "stdout",
          "output_type": "stream",
          "text": [
            "(64, 100, 66) # (batch_size, sequence_length, vocab_size)\n"
          ]
        }
      ],
      "source": [
        "for input_example_batch, target_example_batch in dataset.take(1):\n",
        "    example_batch_predictions = model(input_example_batch)\n",
        "    print(example_batch_predictions.shape, \"# (batch_size, sequence_length, vocab_size)\")"
      ]
    },
    {
      "cell_type": "code",
      "execution_count": null,
      "metadata": {
        "colab": {
          "base_uri": "https://localhost:8080/"
        },
        "id": "Lj9KJDDLrrIH",
        "outputId": "792dfeaf-9680-474d-829e-1cec31533549"
      },
      "outputs": [
        {
          "name": "stdout",
          "output_type": "stream",
          "text": [
            "Model: \"my_model\"\n",
            "_________________________________________________________________\n",
            " Layer (type)                Output Shape              Param #   \n",
            "=================================================================\n",
            " embedding (Embedding)       multiple                  16896     \n",
            "                                                                 \n",
            " gru (GRU)                   multiple                  3938304   \n",
            "                                                                 \n",
            " dense (Dense)               multiple                  67650     \n",
            "                                                                 \n",
            "=================================================================\n",
            "Total params: 4022850 (15.35 MB)\n",
            "Trainable params: 4022850 (15.35 MB)\n",
            "Non-trainable params: 0 (0.00 Byte)\n",
            "_________________________________________________________________\n"
          ]
        }
      ],
      "source": [
        "model.summary()"
      ]
    },
    {
      "cell_type": "code",
      "execution_count": null,
      "metadata": {
        "id": "lpoLlMLsrt9i"
      },
      "outputs": [],
      "source": [
        "sampled_indices = tf.random.categorical(example_batch_predictions[0], num_samples=1)\n",
        "sampled_indices =  tf.squeeze(sampled_indices, axis=-1).numpy()"
      ]
    },
    {
      "cell_type": "code",
      "execution_count": null,
      "metadata": {
        "colab": {
          "base_uri": "https://localhost:8080/"
        },
        "id": "KCu1BkxCrxfu",
        "outputId": "512e58ed-a9c4-49b3-ba50-4d7b9db6e0b3"
      },
      "outputs": [
        {
          "data": {
            "text/plain": [
              "array([51, 56, 18,  2, 56, 20,  6, 12, 20,  1, 18, 13,  7, 46, 48, 53, 22,\n",
              "       57, 32, 45, 27,  9, 26, 49, 60, 49, 11, 45, 10, 33, 29, 54, 30,  4,\n",
              "       25, 13,  3,  4, 19, 51, 12, 10, 13, 44, 21, 35, 64, 25,  5, 58,  6,\n",
              "       18,  7, 15, 63, 36, 18, 16, 50, 10, 30, 48, 33, 16, 53, 10, 21,  4,\n",
              "       46, 63, 38, 28, 52, 11, 50, 19, 58, 54, 49, 20, 24, 41,  6, 14, 20,\n",
              "       17,  7, 56, 49, 19,  6, 26,  3, 14,  1, 16,  7, 17,  5, 26])"
            ]
          },
          "execution_count": 31,
          "metadata": {},
          "output_type": "execute_result"
        }
      ],
      "source": [
        "sampled_indices"
      ]
    },
    {
      "cell_type": "code",
      "execution_count": null,
      "metadata": {
        "colab": {
          "base_uri": "https://localhost:8080/"
        },
        "id": "PMGCcXVQr0MG",
        "outputId": "15e11421-8bb3-4a28-8f60-ec7827d7a60f"
      },
      "outputs": [
        {
          "name": "stdout",
          "output_type": "stream",
          "text": [
            "Input:\n",
            " b'ELO:\\nI show it most of all when I show justice;\\nFor then I pity those I do not know,\\nWhich a dismiss'\n",
            "\n",
            "Next Char Predictions:\n",
            " b\"lqE qG';G\\nE?,ginIrSfN.Mjuj:f3TPoQ$L?!$Fl;3?eHVyL&s'E,BxWECk3QiTCn3H$gxYOm:kFsojGKb'AGD,qjF'M!A\\nC,D&M\"\n"
          ]
        }
      ],
      "source": [
        "print(\"Input:\\n\", text_from_ids(input_example_batch[0]).numpy())\n",
        "print()\n",
        "print(\"Next Char Predictions:\\n\", text_from_ids(sampled_indices).numpy())"
      ]
    },
    {
      "cell_type": "markdown",
      "metadata": {
        "id": "7llJasCmr2Bc"
      },
      "source": [
        "**Train Model**"
      ]
    },
    {
      "cell_type": "code",
      "execution_count": null,
      "metadata": {
        "id": "BhEM4cqHr4Sp"
      },
      "outputs": [],
      "source": [
        "# Tambahan optimizer dan fungsi loss\n",
        "loss = tf.losses.SparseCategoricalCrossentropy(from_logits=True)"
      ]
    },
    {
      "cell_type": "code",
      "execution_count": null,
      "metadata": {
        "colab": {
          "base_uri": "https://localhost:8080/"
        },
        "id": "nL48yKcrr-yW",
        "outputId": "17cc40cf-74cc-49e6-9ad9-c5df794ad02f"
      },
      "outputs": [
        {
          "name": "stdout",
          "output_type": "stream",
          "text": [
            "Prediction shape:  (64, 100, 66)  # (batch_size, sequence_length, vocab_size)\n",
            "Mean loss:         tf.Tensor(4.1887536, shape=(), dtype=float32)\n"
          ]
        }
      ],
      "source": [
        "example_batch_mean_loss = loss(target_example_batch, example_batch_predictions)\n",
        "print(\"Prediction shape: \", example_batch_predictions.shape, \" # (batch_size, sequence_length, vocab_size)\")\n",
        "print(\"Mean loss:        \", example_batch_mean_loss)"
      ]
    },
    {
      "cell_type": "code",
      "execution_count": null,
      "metadata": {
        "colab": {
          "base_uri": "https://localhost:8080/"
        },
        "id": "QuluEtiTsBRM",
        "outputId": "0ec5f46a-0518-4d5a-f2bc-751a9cf9d1eb"
      },
      "outputs": [
        {
          "data": {
            "text/plain": [
              "65.94055"
            ]
          },
          "execution_count": 35,
          "metadata": {},
          "output_type": "execute_result"
        }
      ],
      "source": [
        "tf.exp(example_batch_mean_loss).numpy()"
      ]
    },
    {
      "cell_type": "code",
      "execution_count": null,
      "metadata": {
        "id": "D3ZvWXp8sDKw"
      },
      "outputs": [],
      "source": [
        "model.compile(optimizer='adam', loss=loss)"
      ]
    },
    {
      "cell_type": "markdown",
      "metadata": {
        "id": "z2Yk5FeWsEUT"
      },
      "source": [
        "**Konfigurasi Checkpoint**"
      ]
    },
    {
      "cell_type": "code",
      "execution_count": null,
      "metadata": {
        "id": "7LbORzd0sH2A"
      },
      "outputs": [],
      "source": [
        "# Directory where the checkpoints will be saved\n",
        "checkpoint_dir = './training_checkpoints'\n",
        "# Name of the checkpoint files\n",
        "checkpoint_prefix = os.path.join(checkpoint_dir, \"ckpt_{epoch}\")\n",
        "\n",
        "checkpoint_callback = tf.keras.callbacks.ModelCheckpoint(\n",
        "    filepath=checkpoint_prefix,\n",
        "    save_weights_only=True)"
      ]
    },
    {
      "cell_type": "markdown",
      "metadata": {
        "id": "qvBT1_c-sKBQ"
      },
      "source": [
        "**Lakukan Proses Training**"
      ]
    },
    {
      "cell_type": "code",
      "execution_count": null,
      "metadata": {
        "id": "l4CrA0ZNsOFa"
      },
      "outputs": [],
      "source": [
        "EPOCHS = 20"
      ]
    },
    {
      "cell_type": "code",
      "execution_count": null,
      "metadata": {
        "colab": {
          "base_uri": "https://localhost:8080/"
        },
        "id": "avINsTEmsQnU",
        "outputId": "36c2646d-ac81-4a73-a6a7-6792757b04e7"
      },
      "outputs": [
        {
          "name": "stdout",
          "output_type": "stream",
          "text": [
            "Epoch 1/20\n",
            "172/172 [==============================] - 1024s 6s/step - loss: 2.7272\n",
            "Epoch 2/20\n",
            "172/172 [==============================] - 1018s 6s/step - loss: 1.9918\n",
            "Epoch 3/20\n",
            "172/172 [==============================] - 1007s 6s/step - loss: 1.7115\n",
            "Epoch 4/20\n",
            "172/172 [==============================] - 998s 6s/step - loss: 1.5498\n",
            "Epoch 5/20\n",
            "172/172 [==============================] - 1000s 6s/step - loss: 1.4498\n",
            "Epoch 6/20\n",
            "172/172 [==============================] - 1015s 6s/step - loss: 1.3832\n",
            "Epoch 7/20\n",
            "172/172 [==============================] - 1010s 6s/step - loss: 1.3306\n",
            "Epoch 8/20\n",
            "172/172 [==============================] - 1047s 6s/step - loss: 1.2858\n",
            "Epoch 9/20\n",
            "172/172 [==============================] - 1005s 6s/step - loss: 1.2449\n",
            "Epoch 10/20\n",
            "172/172 [==============================] - 1017s 6s/step - loss: 1.2058\n",
            "Epoch 11/20\n",
            "172/172 [==============================] - 1018s 6s/step - loss: 1.1666\n",
            "Epoch 12/20\n",
            "172/172 [==============================] - 1017s 6s/step - loss: 1.1264\n",
            "Epoch 13/20\n",
            "172/172 [==============================] - 1016s 6s/step - loss: 1.0823\n",
            "Epoch 14/20\n",
            "172/172 [==============================] - 1012s 6s/step - loss: 1.0377\n",
            "Epoch 15/20\n",
            "172/172 [==============================] - 1017s 6s/step - loss: 0.9902\n",
            "Epoch 16/20\n",
            "172/172 [==============================] - 1017s 6s/step - loss: 0.9395\n",
            "Epoch 17/20\n",
            "172/172 [==============================] - 1001s 6s/step - loss: 0.8883\n",
            "Epoch 18/20\n",
            "172/172 [==============================] - 1010s 6s/step - loss: 0.8351\n",
            "Epoch 19/20\n",
            "172/172 [==============================] - 1013s 6s/step - loss: 0.7828\n",
            "Epoch 20/20\n",
            "172/172 [==============================] - 1013s 6s/step - loss: 0.7341\n"
          ]
        }
      ],
      "source": [
        "history = model.fit(dataset, epochs=EPOCHS, callbacks=[checkpoint_callback])"
      ]
    },
    {
      "cell_type": "markdown",
      "metadata": {
        "id": "ZMeKUl3RsVDP"
      },
      "source": [
        "**Generate Teks**"
      ]
    },
    {
      "cell_type": "code",
      "execution_count": null,
      "metadata": {
        "id": "x8oH_mznsTxH"
      },
      "outputs": [],
      "source": [
        "class OneStep(tf.keras.Model):\n",
        "  def __init__(self, model, chars_from_ids, ids_from_chars, temperature=1.0):\n",
        "    super().__init__()\n",
        "    self.temperature = temperature\n",
        "    self.model = model\n",
        "    self.chars_from_ids = chars_from_ids\n",
        "    self.ids_from_chars = ids_from_chars\n",
        "\n",
        "    # Create a mask to prevent \"[UNK]\" from being generated.\n",
        "    skip_ids = self.ids_from_chars(['[UNK]'])[:, None]\n",
        "    sparse_mask = tf.SparseTensor(\n",
        "        # Put a -inf at each bad index.\n",
        "        values=[-float('inf')]*len(skip_ids),\n",
        "        indices=skip_ids,\n",
        "        # Match the shape to the vocabulary\n",
        "        dense_shape=[len(ids_from_chars.get_vocabulary())])\n",
        "    self.prediction_mask = tf.sparse.to_dense(sparse_mask)\n",
        "\n",
        "  @tf.function\n",
        "  def generate_one_step(self, inputs, states=None):\n",
        "    # Convert strings to token IDs.\n",
        "    input_chars = tf.strings.unicode_split(inputs, 'UTF-8')\n",
        "    input_ids = self.ids_from_chars(input_chars).to_tensor()\n",
        "\n",
        "    # Run the model.\n",
        "    # predicted_logits.shape is [batch, char, next_char_logits]\n",
        "    predicted_logits, states = self.model(inputs=input_ids, states=states,\n",
        "                                          return_state=True)\n",
        "    # Only use the last prediction.\n",
        "    predicted_logits = predicted_logits[:, -1, :]\n",
        "    predicted_logits = predicted_logits/self.temperature\n",
        "    # Apply the prediction mask: prevent \"[UNK]\" from being generated.\n",
        "    predicted_logits = predicted_logits + self.prediction_mask\n",
        "\n",
        "    # Sample the output logits to generate token IDs.\n",
        "    predicted_ids = tf.random.categorical(predicted_logits, num_samples=1)\n",
        "    predicted_ids = tf.squeeze(predicted_ids, axis=-1)\n",
        "\n",
        "    # Convert from token ids to characters\n",
        "    predicted_chars = self.chars_from_ids(predicted_ids)\n",
        "\n",
        "    # Return the characters and model state.\n",
        "    return predicted_chars, states"
      ]
    },
    {
      "cell_type": "code",
      "execution_count": null,
      "metadata": {
        "id": "MjfD6xtesg5y"
      },
      "outputs": [],
      "source": [
        "one_step_model = OneStep(model, chars_from_ids, ids_from_chars)"
      ]
    },
    {
      "cell_type": "code",
      "execution_count": null,
      "metadata": {
        "colab": {
          "base_uri": "https://localhost:8080/"
        },
        "id": "sVVZ9_W9sj-o",
        "outputId": "89cf0636-b0a9-4e26-c24a-ff164272651e"
      },
      "outputs": [
        {
          "name": "stdout",
          "output_type": "stream",
          "text": [
            "ROMEO:\n",
            "I call'd flowery.\n",
            "\n",
            "Shepherd:\n",
            "He hath fought for thee\n",
            "I charged thee here; I tell thee, noble woman,\n",
            "Then ask it mest upon; one that it sounded,\n",
            "Disuppilition, since atcend his tamours.\n",
            "\n",
            "MENENIUS:\n",
            "Neither a well; my lord?\n",
            "\n",
            "Provost:\n",
            "Art, to the complete of our wretch.\n",
            "I tell you, 'tis no such a good fellow,\n",
            "All faith o' younge that I should not be smother'd.\n",
            "Be patient, taking on, this lawful heart:\n",
            "Thou enough thy hands of heavy curbshing then to find Servingman:\n",
            "Wart you now,--O III:\n",
            "Well, you are gone another; and know thou shalt\n",
            "Thy raising things for sleep will never conference,\n",
            "Or I lived to lie into an earth\n",
            "Our stronger too, and go, here he to die.\n",
            "\n",
            "CATUS:\n",
            "Come, come, now, this is a faint yet: gull your manners,\n",
            "that are put of best baben thou wast.\n",
            "\n",
            "PETRUCHIO:\n",
            "A sign, away, indeed; a strangle that\n",
            "He would prove from Bianca,\n",
            "The heavens have their petition, think\n",
            "Hastiness instantly; and to be a punish'd\n",
            "Knowing how thou hast once fell pasting as bestow'd\n",
            "Some, as the aspiring  \n",
            "\n",
            "________________________________________________________________________________\n",
            "\n",
            "Run time: 8.636785507202148\n"
          ]
        }
      ],
      "source": [
        "start = time.time()\n",
        "states = None\n",
        "next_char = tf.constant(['ROMEO:'])\n",
        "result = [next_char]\n",
        "\n",
        "for n in range(1000):\n",
        "  next_char, states = one_step_model.generate_one_step(next_char, states=states)\n",
        "  result.append(next_char)\n",
        "\n",
        "result = tf.strings.join(result)\n",
        "end = time.time()\n",
        "print(result[0].numpy().decode('utf-8'), '\\n\\n' + '_'*80)\n",
        "print('\\nRun time:', end - start)"
      ]
    },
    {
      "cell_type": "code",
      "execution_count": null,
      "metadata": {
        "colab": {
          "base_uri": "https://localhost:8080/"
        },
        "id": "WCi6DS1jsoXf",
        "outputId": "542c5f50-0787-4a9b-907c-cd3c3693917c"
      },
      "outputs": [
        {
          "name": "stdout",
          "output_type": "stream",
          "text": [
            "tf.Tensor(\n",
            "[b\"ROMEO:\\nIf love were all commonce on; we are\\nForbid your native renowned with Protea:'\\n\\nSICINIUS:\\nSatisfy you, great sir!\\nO, pardon me here will I return:\\nI thank you, good morrow: 'twere neither spiders' herse,\\nAs he falls for fear.\\n\\nSEBASTIAN:\\nHe was with her ignorant to be as madrant.\\n\\nSecond Gentleman:\\nI thank the welcome; that I may yet but beg proclaim us\\nAntingled of Rome are enemies?\\n\\nPRINCE:\\nMyself myself dislike, that, as the fay were five\\nThat out of poor groats only mine arm\\nAnd self against a husband fearful eye.\\nRepaintle to Edward and peniteners?\\nHave you remember'd, and thy policy's counted\\nLest them would have fill'd with rusin's wedding gentle,\\nLike stripes repried, and Romeop-inster\\nEsseech you by your persing,\\nHave at thee to bedow, our pilgrims.\\n\\nLADY ANNE:\\nNo, my lord: while if you be your king?\\nYou should not flowers the slave that means to acter.\\n\\nKING RICHARD II:\\nAnd still the window of the creature,\\nBut Herch we have here but full of grace.\\nWho least thou tear'st not\"\n",
            " b\"ROMEO:\\nVery well; and could make you gut that I proposer?\\n\\nKONTENDIAN:\\nYou have well see me in him. First, hear me speak.\\n\\nQUEEN MARGARET:\\nGo, take it.\\n\\nCLARENCE:\\nIf I for night of madness in my report.\\n\\nBIONDELLO:\\nShe had a virgaty of it.\\n\\nMessenger:\\nMy soul is all the other for his disnonable:\\nAlas, a lament, others' eyes denied my father's death;\\nWhat conspire those-viles, mights, as they\\nwed me again. I am affairions in twenty times\\nAnd priminest than of your demards.\\n\\nOXFORD:\\nThen, Warwick, lips; and in again and be of who,\\nWhose misposition, royal prince, hath unatide!\\nWell, she's fain prophrish, signify thou object'st me\\nnot to be but grief, with such a usurer afflicters\\nDaredon: you understand me. When, I remember our feeling,--\\n\\nMIRANDA:\\nMy good\\nMercy then; sit down; and mine, I'll vion again\\nTo altory respected with my field.\\nFarewell: I will retire yourself for sly,\\nTo soon appear to the seemnessed and myself,\\nArt after privilegiance\\nWas dead me in his looks.\\n\\nAERIAN:\\n'wis fill'd?\"\n",
            " b\"ROMEO:\\nBy heaven, I will comfort me.\\nThen, good sweet nurse,--O Lord, who hap-gentlemend,\\nFor fireded of your daughter, shall usurp'd:\\nThen my lord, at puisure of him and\\nThat pluck hither to this enterprison, eye\\nShe yet to maids that harm threllows.\\nHark! have thrice distired fat off,\\nAnd weep on some metal; him in thee.\\n\\nRICHMant:\\nThe golden violence in the nightly Sigh'd Ely,\\nSince thou dost be guarded cloth to be of good\\nMore than my uncle thoughts of mine\\nOr twost in cattive from the Pedlar'?\\n\\nGREMIO:\\nSo shall you be so.\\n\\nWARWICK:\\nThree-quainted with their likes mine eye of kings,\\nBeing pass'd Hereford and enforce his meed:\\nAnd in this need he wherein she will common me\\nin the wanitors: please you both are vow'd,\\nTo win a guard, I like no steel, and fell O,\\nWealth and griefs, the instrutty cause\\ntake leave leisure further than John Napsio?\\nBefore the times of Exeter, high, take order to displeast,\\nWhen once should so find swift upon their suits\\nArol There is dusty and pen you out,\\nAnd \"\n",
            " b\"ROMEO:\\nI'll not be gone another; though I pay a berift.\\n\\nPAULINA:\\nThanks, ay, another, sir, Dore me no other!\\nNow, gentlemen, lords; to entreathef, he hath\\nthat thought out of these ribins imagine.\\nWhat's yet I knock? What's your will, for ement,\\nAnd finds the absent duke mus clouder with\\ntears. Now is your children yet should be a piece of my\\nnews,\\nBeing our battles three exhales, till that you have sworn\\nTo wail on your general; which shall recoice\\nThat profit hours Marcius complicting stains\\nThe Duke of York, be in etrectuin'd our\\nWhile I the accuser us in eagness,\\n'Ay, when he is dead to her and entertainment,\\nIn every removed all upon thyself,\\nOf Lowbory, ratels, proud amb-sudacty,\\nAnd seized their love of happy days,\\nAnd all this lawful king.\\n\\nQUEEN:\\nNield,\\nThy puisest of unsafety faults upon myself!\\nI, now it me, let the capain could beg,\\nVincets Angelo; and say this business without\\nconsent, you rager with intest.\\n\\nKING RICHARD II:\\nMarshil, where is my chamber: here shall thanks befo\"\n",
            " b\"ROMEO:\\nThis night! My band hearts from me, respect, marqies,\\nWould wot of Marthril, what his substitue,\\nLike a false ta'en out a forty budden coars\\nTo think that though up and despisade.\\n\\nPedant:\\nMay, I have to show them all aboard.\\n\\nGLOUCESTER:\\nAre the youbting on the bew and full of war.\\n'Tis sight of young and gave him o'er have kept to lay\\nAnd seek the while! O glass, and goodness, my gracious streng\\nThat you did content you. But I\\nMake been more slily; both are enquiet as mad.\\n\\nPETRUCHIO:\\nWell, I promise, know thou fie them both:\\nMy fair conford? and your will, this is not think,\\nThough durst you depart, and so apt you both perfect what we it.\\n\\nJOHN OF GAUNT:\\nThink that dost thou have left thy bed-while to another\\nAgainst the wanton suis and bloody own buds,\\nAnd we as high Aufidius,\\nNeither his beggar with winds; but when he wakes,\\nWith hailstath werbid up and ready for you both\\nTo another deed, in melanush'd asswict\\nfall theirs of stolen and descentred: but, as\\nI, that the King of his \"], shape=(5,), dtype=string) \n",
            "\n",
            "________________________________________________________________________________\n",
            "\n",
            "Run time: 13.267064571380615\n"
          ]
        }
      ],
      "source": [
        "start = time.time()\n",
        "states = None\n",
        "next_char = tf.constant(['ROMEO:', 'ROMEO:', 'ROMEO:', 'ROMEO:', 'ROMEO:'])\n",
        "result = [next_char]\n",
        "\n",
        "for n in range(1000):\n",
        "  next_char, states = one_step_model.generate_one_step(next_char, states=states)\n",
        "  result.append(next_char)\n",
        "\n",
        "result = tf.strings.join(result)\n",
        "end = time.time()\n",
        "print(result, '\\n\\n' + '_'*80)\n",
        "print('\\nRun time:', end - start)"
      ]
    },
    {
      "cell_type": "markdown",
      "metadata": {
        "id": "GjTDaH5dsqz6"
      },
      "source": [
        "**Ekspor Model Generator**"
      ]
    },
    {
      "cell_type": "code",
      "execution_count": null,
      "metadata": {
        "colab": {
          "base_uri": "https://localhost:8080/"
        },
        "id": "l0AORci2spSa",
        "outputId": "90816863-f1d1-4012-b9b8-60e967cd75e9"
      },
      "outputs": [
        {
          "name": "stderr",
          "output_type": "stream",
          "text": [
            "WARNING:tensorflow:Skipping full serialization of Keras layer <__main__.OneStep object at 0x7c9a816bd120>, because it is not built.\n",
            "WARNING:tensorflow:Model's `__init__()` arguments contain non-serializable objects. Please implement a `get_config()` method in the subclassed Model for proper saving and loading. Defaulting to empty config.\n",
            "WARNING:tensorflow:Model's `__init__()` arguments contain non-serializable objects. Please implement a `get_config()` method in the subclassed Model for proper saving and loading. Defaulting to empty config.\n"
          ]
        }
      ],
      "source": [
        "tf.saved_model.save(one_step_model, 'one_step')\n",
        "one_step_reloaded = tf.saved_model.load('one_step')"
      ]
    },
    {
      "cell_type": "code",
      "execution_count": null,
      "metadata": {
        "colab": {
          "base_uri": "https://localhost:8080/"
        },
        "id": "EF39F2Imsxk-",
        "outputId": "13411d32-347b-46aa-aba4-873833c048da"
      },
      "outputs": [
        {
          "name": "stdout",
          "output_type": "stream",
          "text": [
            "ROMEO:\n",
            "Some like himself with a lightness to decky: deal: and that\n",
            "news behold itself and groans or wilt,\n",
            "\n"
          ]
        }
      ],
      "source": [
        "states = None\n",
        "next_char = tf.constant(['ROMEO:'])\n",
        "result = [next_char]\n",
        "\n",
        "for n in range(100):\n",
        "  next_char, states = one_step_reloaded.generate_one_step(next_char, states=states)\n",
        "  result.append(next_char)\n",
        "\n",
        "print(tf.strings.join(result)[0].numpy().decode(\"utf-8\"))"
      ]
    },
    {
      "cell_type": "markdown",
      "metadata": {
        "id": "Atirvodfq5lh"
      },
      "source": [
        "**Tugas Praktikum**"
      ]
    },
    {
      "cell_type": "code",
      "execution_count": null,
      "metadata": {
        "id": "iKTCrqJwq8jB"
      },
      "outputs": [],
      "source": [
        "class CustomTraining(MyModel):\n",
        " @tf.function\n",
        " def train_step(self, inputs):\n",
        "      inputs, labels = inputs\n",
        "      with tf.GradientTape() as tape:\n",
        "        predictions = self(inputs, training=True)\n",
        "        loss = self.loss(labels, predictions)\n",
        "      grads = tape.gradient(loss, model.trainable_variables)\n",
        "      self.optimizer.apply_gradients(zip(grads, model.trainable_variables))\n",
        "\n",
        "      return {'loss': loss}"
      ]
    },
    {
      "cell_type": "code",
      "execution_count": null,
      "metadata": {
        "id": "GSsfTFCCrBaX"
      },
      "outputs": [],
      "source": [
        "model = CustomTraining(\n",
        "    vocab_size=len(ids_from_chars.get_vocabulary()),\n",
        "    embedding_dim=embedding_dim,\n",
        "    rnn_units=rnn_units)"
      ]
    },
    {
      "cell_type": "code",
      "execution_count": null,
      "metadata": {
        "id": "ErjiCfd9rGxC"
      },
      "outputs": [],
      "source": [
        "model.compile(optimizer = tf.keras.optimizers.Adam(),\n",
        "              loss=tf.keras.losses.SparseCategoricalCrossentropy(from_logits=True))"
      ]
    },
    {
      "cell_type": "code",
      "execution_count": null,
      "metadata": {
        "colab": {
          "base_uri": "https://localhost:8080/"
        },
        "id": "qPE086sarKTk",
        "outputId": "166126f1-3614-40e2-afe8-985b35686889"
      },
      "outputs": [
        {
          "name": "stdout",
          "output_type": "stream",
          "text": [
            "172/172 [==============================] - 1010s 6s/step - loss: 2.7349\n"
          ]
        },
        {
          "data": {
            "text/plain": [
              "<keras.src.callbacks.History at 0x7c9a73d2b760>"
            ]
          },
          "execution_count": 54,
          "metadata": {},
          "output_type": "execute_result"
        }
      ],
      "source": [
        "model.fit(dataset, epochs=1)"
      ]
    },
    {
      "cell_type": "code",
      "execution_count": null,
      "metadata": {
        "colab": {
          "background_save": true,
          "base_uri": "https://localhost:8080/"
        },
        "id": "pXm73RNrrRHE",
        "outputId": "88410195-2dc8-48be-a83d-21a657ea6677"
      },
      "outputs": [
        {
          "name": "stdout",
          "output_type": "stream",
          "text": [
            "Epoch 1 Batch 0 Loss 2.2122\n",
            "Epoch 1 Batch 50 Loss 2.0274\n",
            "Epoch 1 Batch 100 Loss 1.9568\n",
            "Epoch 1 Batch 150 Loss 1.8465\n",
            "\n",
            "Epoch 1 Loss: 2.0009\n",
            "Time taken for 1 epoch 960.19 sec\n",
            "________________________________________________________________________________\n",
            "Epoch 2 Batch 0 Loss 1.8914\n",
            "Epoch 2 Batch 50 Loss 1.8126\n",
            "Epoch 2 Batch 100 Loss 1.6607\n",
            "Epoch 2 Batch 150 Loss 1.6854\n",
            "\n",
            "Epoch 2 Loss: 1.7280\n",
            "Time taken for 1 epoch 981.92 sec\n",
            "________________________________________________________________________________\n",
            "Epoch 3 Batch 0 Loss 1.5963\n",
            "Epoch 3 Batch 50 Loss 1.5709\n",
            "Epoch 3 Batch 100 Loss 1.5615\n",
            "Epoch 3 Batch 150 Loss 1.5314\n",
            "\n",
            "Epoch 3 Loss: 1.5640\n",
            "Time taken for 1 epoch 981.92 sec\n",
            "________________________________________________________________________________\n",
            "Epoch 4 Batch 0 Loss 1.4865\n",
            "Epoch 4 Batch 50 Loss 1.4342\n",
            "Epoch 4 Batch 100 Loss 1.4690\n",
            "Epoch 4 Batch 150 Loss 1.4348\n",
            "\n",
            "Epoch 4 Loss: 1.4645\n",
            "Time taken for 1 epoch 981.92 sec\n",
            "________________________________________________________________________________\n",
            "Epoch 5 Batch 0 Loss 1.3568\n",
            "Epoch 5 Batch 50 Loss 1.4257\n",
            "Epoch 5 Batch 100 Loss 1.4104\n",
            "Epoch 5 Batch 150 Loss 1.3817\n",
            "\n",
            "Epoch 5 Loss: 1.3945\n",
            "Time taken for 1 epoch 985.04 sec\n",
            "________________________________________________________________________________\n",
            "Epoch 6 Batch 0 Loss 1.3284\n",
            "Epoch 6 Batch 50 Loss 1.3342\n",
            "Epoch 6 Batch 100 Loss 1.3237\n",
            "Epoch 6 Batch 150 Loss 1.3438\n",
            "\n",
            "Epoch 6 Loss: 1.3413\n",
            "Time taken for 1 epoch 981.92 sec\n",
            "________________________________________________________________________________\n",
            "Epoch 7 Batch 0 Loss 1.3128\n",
            "Epoch 7 Batch 50 Loss 1.2478\n",
            "Epoch 7 Batch 100 Loss 1.2772\n",
            "Epoch 7 Batch 150 Loss 1.2995\n",
            "\n",
            "Epoch 7 Loss: 1.2964\n",
            "Time taken for 1 epoch 981.91 sec\n",
            "________________________________________________________________________________\n",
            "Epoch 8 Batch 0 Loss 1.2795\n",
            "Epoch 8 Batch 50 Loss 1.2659\n"
          ]
        }
      ],
      "source": [
        "EPOCHS = 10\n",
        "\n",
        "mean = tf.metrics.Mean()\n",
        "\n",
        "for epoch in range(EPOCHS):\n",
        "    start = time.time()\n",
        "\n",
        "    mean.reset_states()\n",
        "    for (batch_n, (inp, target)) in enumerate(dataset):\n",
        "      logs = model.train_step([inp, target])\n",
        "      mean.update_state(logs['loss'])\n",
        "\n",
        "      if batch_n % 50 == 0:\n",
        "         template = f\"Epoch {epoch+1} Batch {batch_n} Loss {logs['loss']:.4f}\"\n",
        "         print(template)\n",
        "\n",
        " # saving (checkpoint) the model every 5 epochs\n",
        "      if (epoch + 1) % 5 == 0:\n",
        "         model.save_weights(checkpoint_prefix.format(epoch=epoch))\n",
        "\n",
        "    print()\n",
        "    print(f'Epoch {epoch+1} Loss: {mean.result().numpy():.4f}')\n",
        "    print(f'Time taken for 1 epoch {time.time() - start:.2f} sec')\n",
        "    print(\"_\"*80)\n",
        "\n",
        "model.save_weights(checkpoint_prefix.format(epoch=epoch))"
      ]
    }
  ],
  "metadata": {
    "colab": {
      "provenance": [],
      "authorship_tag": "ABX9TyNEv/fJn69BNA7Dfs4Go724",
      "include_colab_link": true
    },
    "kernelspec": {
      "display_name": "Python 3",
      "name": "python3"
    },
    "language_info": {
      "name": "python"
    }
  },
  "nbformat": 4,
  "nbformat_minor": 0
}